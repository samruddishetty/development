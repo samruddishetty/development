{
  "cells": [
    {
      "cell_type": "code",
      "execution_count": 1,
      "metadata": {
        "id": "mEp5ZUz5PdVq"
      },
      "outputs": [],
      "source": [
        "#import Libraries\n",
        "import numpy as np #numpy library\n",
        "import pandas as pd #pandas library\n",
        "import matplotlib.pyplot as plt #plot library\n",
        "import os #import os\n",
        "import seaborn as sns #visualization library\n",
        "from sklearn.model_selection import train_test_split #test and train spliting of data\n",
        "from sklearn.model_selection import cross_val_score #cross validation library\n",
        "from sklearn.preprocessing import MinMaxScaler,StandardScaler,RobustScaler, Normalizer #normalization library\n",
        "from sklearn.model_selection import KFold #Kfold- cross vaidation\n",
        "from sklearn.model_selection import GridSearchCV #for cross validation\n",
        "from sklearn.pipeline import make_pipeline #for pipelining\n",
        "from sklearn.neural_network import MLPClassifier # for classification\n",
        "from sklearn.datasets import load_wine #loading wine data set\n",
        "from sklearn.svm import SVC #support Vector Library"
      ]
    },
    {
      "cell_type": "markdown",
      "metadata": {
        "id": "tUIz_QURWnWk"
      },
      "source": [
        "Task 1 : Load the data set into Python using, e.g., load_wine or genfromtxt, as\n",
        "appropriate. In the case of the USPS dataset, merge the original training\n",
        "and test sets into one dataset."
      ]
    },
    {
      "cell_type": "code",
      "execution_count": 2,
      "metadata": {
        "id": "NoYbpk_tWgeO"
      },
      "outputs": [],
      "source": [
        "winedataset = load_wine() # Loading the wine dataset\n",
        "\n",
        "winedatafeaturs = winedataset.data #features\n",
        "\n",
        "winedatalabels = winedataset.target #labels\n",
        "\n",
        "usps_train = np.genfromtxt('zip.train') # Loading the USPS Dataset train\n",
        "\n",
        "usps_test = np.genfromtxt('zip.test')# Loading the USPS Dataset test\n",
        "\n",
        "#Concatenation of both train and test\n",
        "concatenatedataset = np.concatenate((usps_train,usps_test),axis=0) "
      ]
    },
    {
      "cell_type": "markdown",
      "metadata": {
        "id": "meQbSLP5cjtt"
      },
      "source": [
        "Task 2 : Divide the dataset into a training set and a test set. You may use the\n",
        "function train_test_split. Use your birthday in the format DDMM as\n",
        "random_state (omit leading zeros if any)"
      ]
    },
    {
      "cell_type": "code",
      "execution_count": 3,
      "metadata": {
        "id": "NKYeP3XKcpAd"
      },
      "outputs": [],
      "source": [
        "#splitting the wine dataset\n",
        "wine_X_train, wine_X_test, wine_Y_train, wine_Y_test = train_test_split(winedatafeaturs,winedatalabels, random_state=21)\n",
        "\n",
        "#splitting the USPS Dataset\n",
        "usps_X_train, usps_X_test, usps_Y_train, usps_Y_test = train_test_split(concatenatedataset[:,1:],concatenatedataset[:,0], random_state=21)"
      ]
    },
    {
      "cell_type": "markdown",
      "metadata": {
        "id": "npvI3TdqfQgI"
      },
      "source": [
        "Task 3 : Using cross-validation and the training set only, estimate the generalization accuracy of the MLPClassifier with the default values of the parameters. You may use the function cross_val_score."
      ]
    },
    {
      "cell_type": "code",
      "execution_count": 4,
      "metadata": {
        "colab": {
          "base_uri": "https://localhost:8080/"
        },
        "id": "K7Q44QexfWts",
        "outputId": "5736bdd0-6556-4e7a-c241-6e40fc58b495"
      },
      "outputs": [
        {
          "output_type": "stream",
          "name": "stdout",
          "text": [
            "Wine Dataset Mean Scores\n",
            "0.3156695156695157\n",
            "Wine Dataset Generaliazation Accuracy\n",
            "31.57894736842105\n",
            "USPS Dataset Mean Scores\n",
            "0.9673023660027873\n",
            "Wine Dataset Generaliazation Accuracy\n",
            "99.97131794062814\n"
          ]
        }
      ],
      "source": [
        "from sklearn.neural_network import MLPClassifier #importing Libraries for MLP Classsifier\n",
        "\n",
        "from sklearn.metrics import accuracy_score #Library for accuracy\n",
        "\n",
        "#wine dataset and fitting and predicting\n",
        "winemodel = MLPClassifier(random_state=21).fit(wine_X_train,wine_Y_train) # winedataset model\n",
        "\n",
        "winescores = cross_val_score(winemodel, wine_X_train, wine_Y_train) #cross Validation Scores\n",
        "\n",
        "print(\"Wine Dataset Mean Scores\")\n",
        "print(winescores.mean()) # Checking mean scores\n",
        "\n",
        "winemodelpred = winemodel.predict(wine_X_train) #predicting the data\n",
        "\n",
        "print(\"Wine Dataset Generaliazation Accuracy\")\n",
        "print(accuracy_score(wine_Y_train, winemodelpred)*100) #predicting the accuracy\n",
        "\n",
        "#USPS dataset and fitting and predicting\n",
        "uspsmodel = MLPClassifier(random_state=21).fit(usps_X_train,usps_Y_train) # winedataset model\n",
        "\n",
        "uspsscores = cross_val_score(uspsmodel, usps_X_train, usps_Y_train) #cross validation scores\n",
        "\n",
        "print(\"USPS Dataset Mean Scores\")\n",
        "print(uspsscores.mean()) #checking the mean\n",
        "\n",
        "uspsmodelpred = uspsmodel.predict(usps_X_train) #predicting the scores \n",
        "\n",
        "print(\"Wine Dataset Generaliazation Accuracy\")\n",
        "print(accuracy_score(usps_Y_train, uspsmodelpred)*100) #checking the accuracy\n"
      ]
    },
    {
      "cell_type": "markdown",
      "metadata": {
        "id": "8QKbhNFA5SUS"
      },
      "source": [
        "Task 4: Get rid of the warnings by varying a parameter, or parameters, such as\n",
        "max_iter. Estimate the generalization accuracy of the MLPClassifier\n",
        "with the modified values of the parameters. (If there are no warnings, the\n",
        "modified values of the parameters may be identical to the default values.)\n"
      ]
    },
    {
      "cell_type": "code",
      "execution_count": 5,
      "metadata": {
        "colab": {
          "base_uri": "https://localhost:8080/"
        },
        "id": "juZkIrQ-5N2W",
        "outputId": "07325e34-1a6c-4e29-8d7b-61e25e3c8ebe"
      },
      "outputs": [
        {
          "output_type": "stream",
          "name": "stderr",
          "text": [
            "/usr/local/lib/python3.8/dist-packages/sklearn/neural_network/_multilayer_perceptron.py:549: ConvergenceWarning: lbfgs failed to converge (status=1):\n",
            "STOP: TOTAL NO. of ITERATIONS REACHED LIMIT.\n",
            "\n",
            "Increase the number of iterations (max_iter) or scale the data as shown in:\n",
            "    https://scikit-learn.org/stable/modules/preprocessing.html\n",
            "  self.n_iter_ = _check_optimize_result(\"lbfgs\", opt_res, self.max_iter)\n",
            "/usr/local/lib/python3.8/dist-packages/sklearn/neural_network/_multilayer_perceptron.py:549: ConvergenceWarning: lbfgs failed to converge (status=1):\n",
            "STOP: TOTAL NO. of ITERATIONS REACHED LIMIT.\n",
            "\n",
            "Increase the number of iterations (max_iter) or scale the data as shown in:\n",
            "    https://scikit-learn.org/stable/modules/preprocessing.html\n",
            "  self.n_iter_ = _check_optimize_result(\"lbfgs\", opt_res, self.max_iter)\n",
            "/usr/local/lib/python3.8/dist-packages/sklearn/neural_network/_multilayer_perceptron.py:549: ConvergenceWarning: lbfgs failed to converge (status=1):\n",
            "STOP: TOTAL NO. of ITERATIONS REACHED LIMIT.\n",
            "\n",
            "Increase the number of iterations (max_iter) or scale the data as shown in:\n",
            "    https://scikit-learn.org/stable/modules/preprocessing.html\n",
            "  self.n_iter_ = _check_optimize_result(\"lbfgs\", opt_res, self.max_iter)\n",
            "/usr/local/lib/python3.8/dist-packages/sklearn/neural_network/_multilayer_perceptron.py:549: ConvergenceWarning: lbfgs failed to converge (status=1):\n",
            "STOP: TOTAL NO. of ITERATIONS REACHED LIMIT.\n",
            "\n",
            "Increase the number of iterations (max_iter) or scale the data as shown in:\n",
            "    https://scikit-learn.org/stable/modules/preprocessing.html\n",
            "  self.n_iter_ = _check_optimize_result(\"lbfgs\", opt_res, self.max_iter)\n",
            "/usr/local/lib/python3.8/dist-packages/sklearn/neural_network/_multilayer_perceptron.py:549: ConvergenceWarning: lbfgs failed to converge (status=1):\n",
            "STOP: TOTAL NO. of ITERATIONS REACHED LIMIT.\n",
            "\n",
            "Increase the number of iterations (max_iter) or scale the data as shown in:\n",
            "    https://scikit-learn.org/stable/modules/preprocessing.html\n",
            "  self.n_iter_ = _check_optimize_result(\"lbfgs\", opt_res, self.max_iter)\n",
            "/usr/local/lib/python3.8/dist-packages/sklearn/neural_network/_multilayer_perceptron.py:549: ConvergenceWarning: lbfgs failed to converge (status=1):\n",
            "STOP: TOTAL NO. of ITERATIONS REACHED LIMIT.\n",
            "\n",
            "Increase the number of iterations (max_iter) or scale the data as shown in:\n",
            "    https://scikit-learn.org/stable/modules/preprocessing.html\n",
            "  self.n_iter_ = _check_optimize_result(\"lbfgs\", opt_res, self.max_iter)\n"
          ]
        },
        {
          "output_type": "stream",
          "name": "stdout",
          "text": [
            "Wine Dataset Mean Scores\n",
            "0.6905982905982906\n",
            "Wine Dataset Generaliazation Accuracy\n",
            "70.67669172932331\n",
            "USPS Dataset Mean Scores\n",
            "0.9538218581426801\n",
            "Wine Dataset Generaliazation Accuracy\n",
            "99.97131794062814\n"
          ]
        }
      ],
      "source": [
        "#wine dataset and fitting and predicting\n",
        "winemodel_addparam = MLPClassifier(hidden_layer_sizes=100,activation='logistic', solver='lbfgs',max_iter=100, random_state=21).fit(wine_X_train,wine_Y_train) # winedataset model\n",
        "\n",
        "winescores_addparam = cross_val_score(winemodel_addparam, wine_X_train, wine_Y_train) #cross validation \n",
        "\n",
        "print(\"Wine Dataset Mean Scores\")\n",
        "print(winescores_addparam.mean()) #checking the mean\n",
        "\n",
        "winemodelpred_addparam = winemodel_addparam.predict(wine_X_train) #preicting the data\n",
        "\n",
        "print(\"Wine Dataset Generaliazation Accuracy\") \n",
        "print(accuracy_score(wine_Y_train, winemodelpred_addparam)*100) #Accuracy check\n",
        "\n",
        "#USPS dataset and fitting and predicting\n",
        "uspsmodel_addparam = MLPClassifier(hidden_layer_sizes=100,activation='logistic', solver='lbfgs',max_iter=100, random_state=21).fit(usps_X_train,usps_Y_train) # winedataset model\n",
        "\n",
        "uspsscores_addparam = cross_val_score(uspsmodel_addparam, usps_X_train, usps_Y_train) #cross validation \n",
        "\n",
        "print(\"USPS Dataset Mean Scores\")\n",
        "print(uspsscores_addparam.mean()) #checking the mean\n",
        "\n",
        "uspsmodelpred_addparam = uspsmodel_addparam.predict(usps_X_train)  #preicting the data\n",
        "\n",
        "print(\"Wine Dataset Generaliazation Accuracy\")\n",
        "print(accuracy_score(usps_Y_train, uspsmodelpred_addparam)*100)  #Accuracy check"
      ]
    },
    {
      "cell_type": "code",
      "execution_count": 6,
      "metadata": {
        "colab": {
          "base_uri": "https://localhost:8080/"
        },
        "id": "rtIMwvUB7s0x",
        "outputId": "4c727f5a-8e31-4533-b3c3-fa6178aa0f77"
      },
      "outputs": [
        {
          "output_type": "stream",
          "name": "stderr",
          "text": [
            "/usr/local/lib/python3.8/dist-packages/sklearn/neural_network/_multilayer_perceptron.py:549: ConvergenceWarning: lbfgs failed to converge (status=1):\n",
            "STOP: TOTAL NO. of ITERATIONS REACHED LIMIT.\n",
            "\n",
            "Increase the number of iterations (max_iter) or scale the data as shown in:\n",
            "    https://scikit-learn.org/stable/modules/preprocessing.html\n",
            "  self.n_iter_ = _check_optimize_result(\"lbfgs\", opt_res, self.max_iter)\n",
            "/usr/local/lib/python3.8/dist-packages/sklearn/neural_network/_multilayer_perceptron.py:549: ConvergenceWarning: lbfgs failed to converge (status=1):\n",
            "STOP: TOTAL NO. of ITERATIONS REACHED LIMIT.\n",
            "\n",
            "Increase the number of iterations (max_iter) or scale the data as shown in:\n",
            "    https://scikit-learn.org/stable/modules/preprocessing.html\n",
            "  self.n_iter_ = _check_optimize_result(\"lbfgs\", opt_res, self.max_iter)\n",
            "/usr/local/lib/python3.8/dist-packages/sklearn/neural_network/_multilayer_perceptron.py:549: ConvergenceWarning: lbfgs failed to converge (status=1):\n",
            "STOP: TOTAL NO. of ITERATIONS REACHED LIMIT.\n",
            "\n",
            "Increase the number of iterations (max_iter) or scale the data as shown in:\n",
            "    https://scikit-learn.org/stable/modules/preprocessing.html\n",
            "  self.n_iter_ = _check_optimize_result(\"lbfgs\", opt_res, self.max_iter)\n",
            "/usr/local/lib/python3.8/dist-packages/sklearn/neural_network/_multilayer_perceptron.py:549: ConvergenceWarning: lbfgs failed to converge (status=1):\n",
            "STOP: TOTAL NO. of ITERATIONS REACHED LIMIT.\n",
            "\n",
            "Increase the number of iterations (max_iter) or scale the data as shown in:\n",
            "    https://scikit-learn.org/stable/modules/preprocessing.html\n",
            "  self.n_iter_ = _check_optimize_result(\"lbfgs\", opt_res, self.max_iter)\n",
            "/usr/local/lib/python3.8/dist-packages/sklearn/neural_network/_multilayer_perceptron.py:549: ConvergenceWarning: lbfgs failed to converge (status=1):\n",
            "STOP: TOTAL NO. of ITERATIONS REACHED LIMIT.\n",
            "\n",
            "Increase the number of iterations (max_iter) or scale the data as shown in:\n",
            "    https://scikit-learn.org/stable/modules/preprocessing.html\n",
            "  self.n_iter_ = _check_optimize_result(\"lbfgs\", opt_res, self.max_iter)\n",
            "/usr/local/lib/python3.8/dist-packages/sklearn/neural_network/_multilayer_perceptron.py:549: ConvergenceWarning: lbfgs failed to converge (status=1):\n",
            "STOP: TOTAL NO. of ITERATIONS REACHED LIMIT.\n",
            "\n",
            "Increase the number of iterations (max_iter) or scale the data as shown in:\n",
            "    https://scikit-learn.org/stable/modules/preprocessing.html\n",
            "  self.n_iter_ = _check_optimize_result(\"lbfgs\", opt_res, self.max_iter)\n"
          ]
        },
        {
          "output_type": "stream",
          "name": "stdout",
          "text": [
            "Wine Dataset Mean Scores\n",
            "0.8649572649572649\n",
            "Wine Dataset Generaliazation Accuracy\n",
            "100.0\n",
            "USPS Dataset Mean Scores\n",
            "0.9523874464551095\n",
            "Wine Dataset Generaliazation Accuracy\n",
            "99.98565897031408\n"
          ]
        }
      ],
      "source": [
        "#wine dataset and fitting and predicting\n",
        "winemodel_updateparam = MLPClassifier(hidden_layer_sizes=300,activation='tanh', solver='lbfgs',max_iter=1000, random_state=21).fit(wine_X_train,wine_Y_train) # winedataset model\n",
        "winescores_updateparam = cross_val_score(winemodel_updateparam, wine_X_train, wine_Y_train)  #cross validation scores\n",
        "print(\"Wine Dataset Mean Scores\")\n",
        "print(winescores_updateparam.mean()) #checking the mean\n",
        "\n",
        "winemodelpred_updateparam = winemodel_updateparam.predict(wine_X_train) #prediction the method\n",
        "print(\"Wine Dataset Generaliazation Accuracy\")\n",
        "print(accuracy_score(wine_Y_train, winemodelpred_updateparam)*100) #checking the accuracy\n",
        "\n",
        "#USPS dataset and fitting and predicting\n",
        "uspsmodel_updateparam = MLPClassifier(hidden_layer_sizes=100,activation='tanh', solver='lbfgs',max_iter=1000, random_state=21).fit(usps_X_train,usps_Y_train) # winedataset model\n",
        "uspsscores_updateparam = cross_val_score(uspsmodel_updateparam, usps_X_train, usps_Y_train)  #cross validation scores\n",
        "print(\"USPS Dataset Mean Scores\")\n",
        "print(uspsscores_updateparam.mean()) #checking the mean\n",
        "\n",
        "uspsmodelpred_updateparam = uspsmodel_updateparam.predict(usps_X_train) #prediction the method\n",
        "print(\"Wine Dataset Generaliazation Accuracy\")\n",
        "print(accuracy_score(usps_Y_train, uspsmodelpred_updateparam)*100) #checking the accuracy"
      ]
    },
    {
      "cell_type": "markdown",
      "metadata": {
        "id": "dEWD5w9l3OvR"
      },
      "source": [
        "Accuracy is increased because of change in hidden value count from 100 to 300. and usge of activation function and solvers"
      ]
    },
    {
      "cell_type": "markdown",
      "metadata": {
        "id": "PiOjiIh_6Tpp"
      },
      "source": [
        "Task 5: Find the test error rate of the MLPClassifier with the modified values\n",
        "of parameters, compare it with the estimate obtained in the previous task\n",
        "(task 4) for the same values of parameters, and write your observations in\n",
        "a markdown cell of your Jupyter notebook."
      ]
    },
    {
      "cell_type": "markdown",
      "metadata": {
        "id": "PBNyPGUc3d5l"
      },
      "source": [
        "Test Error for Wine Dataset"
      ]
    },
    {
      "cell_type": "code",
      "execution_count": 7,
      "metadata": {
        "id": "CPLifhad6W5P"
      },
      "outputs": [],
      "source": [
        "winemodelpred_updateparam_test_def = winemodel.predict(wine_X_test)  #default parameters\n",
        "winemodelpred_updateparam_test_updat = winemodel_updateparam.predict(wine_X_test) #Update the Parameters"
      ]
    },
    {
      "cell_type": "code",
      "execution_count": 8,
      "metadata": {
        "colab": {
          "base_uri": "https://localhost:8080/"
        },
        "id": "MIcpF4Mpz5KT",
        "outputId": "42fc613b-85c5-4a77-af43-c382ca1ba02b"
      },
      "outputs": [
        {
          "output_type": "stream",
          "name": "stdout",
          "text": [
            "Test error With Default Parameters\n",
            "0.6222222222222222\n",
            "Test error With Update Parameters\n",
            "0.7555555555555555\n"
          ]
        }
      ],
      "source": [
        "#Default Parameters\n",
        "Def_Error = 0.0 # initialise the value with zero\n",
        "\n",
        "for abc in range(len(winemodelpred_updateparam_test_def)): #for range loop \n",
        "\n",
        "  if winemodelpred_updateparam_test_def[abc]!=wine_Y_test[abc]: #checking the values with predicted and test\n",
        "\n",
        "    Def_Error+=1 #incrementing the count to check error\n",
        "\n",
        "Wine_Error_def = Def_Error/len(winemodelpred_updateparam_test_def) #checking the length\n",
        "\n",
        "print(\"Test error With Default Parameters\")\n",
        "\n",
        "print(Wine_Error_def) #printing the error\n",
        "\n",
        "#Updated Parameters\n",
        "Def_Error_updated = 0.0 # initialise the value with zero\n",
        "\n",
        "for abc in range(len(winemodelpred_updateparam_test_updat)):  #for range loop\n",
        "\n",
        "  if winemodelpred_updateparam_test_updat[abc]!=wine_Y_test[abc]: #checking the values with predicted and test\n",
        "\n",
        "    Def_Error+=1  #incrementing the count to check error\n",
        "\n",
        "Wine_Error_upd = Def_Error/len(winemodelpred_updateparam_test_updat) #checking the length\n",
        "\n",
        "print(\"Test error With Update Parameters\")\n",
        "\n",
        "print(Wine_Error_upd) #printing the error"
      ]
    },
    {
      "cell_type": "markdown",
      "metadata": {
        "id": "ufjwd_4I3his"
      },
      "source": [
        "Test Error for USPS Data Set"
      ]
    },
    {
      "cell_type": "code",
      "execution_count": 9,
      "metadata": {
        "id": "E-pLERec38aZ"
      },
      "outputs": [],
      "source": [
        "uspsmodelpred_updateparam_test_def_usps = uspsmodel.predict(usps_X_test)  #default parameters\n",
        "\n",
        "uspsmodelpred_updateparam_test_updat_usps = uspsmodel_updateparam.predict(usps_X_test) #Update the Parameters"
      ]
    },
    {
      "cell_type": "code",
      "execution_count": 10,
      "metadata": {
        "colab": {
          "base_uri": "https://localhost:8080/"
        },
        "id": "3n6Z60hT3r4R",
        "outputId": "7525c12e-1375-468e-a967-3cf9fa07694a"
      },
      "outputs": [
        {
          "output_type": "stream",
          "name": "stdout",
          "text": [
            "Test error With Default Parameters\n",
            "0.9776344086021506\n",
            "Test error With Update Parameters\n",
            "0.0\n"
          ]
        }
      ],
      "source": [
        "#Default Parameters\n",
        "Def_Error_USPS = 0.0 # initialise the value with zero\n",
        "\n",
        "for abc in range(len(uspsmodelpred_updateparam_test_def_usps)):  #for range loop \n",
        "\n",
        "  if uspsmodelpred_updateparam_test_def_usps[abc]==usps_Y_test[abc]:  #checking the values with predicted and test\n",
        "\n",
        "    Def_Error+=1 #incrementing the count to check error\n",
        "\n",
        "usps_Error_def = Def_Error/len(uspsmodelpred_updateparam_test_def_usps) #checking the length\n",
        "\n",
        "print(\"Test error With Default Parameters\")\n",
        "\n",
        "print(usps_Error_def) #printing the error\n",
        "\n",
        "#Updated Parameters\n",
        "Def_Error_updated_usps = 0.0 # initialise the value with zero\n",
        "\n",
        "for abc in range(len(uspsmodelpred_updateparam_test_updat_usps)):  #for range loop \n",
        "\n",
        "  if uspsmodelpred_updateparam_test_updat_usps[abc]==usps_Y_test[abc]:  #checking the values with predicted and test\n",
        "\n",
        "    Def_Error+=1  #incrementing the count to check error\n",
        "\n",
        "Wine_Error_upd = Def_Error/len(uspsmodelpred_updateparam_test_updat_usps)  #checking the length\n",
        "\n",
        "print(\"Test error With Update Parameters\")\n",
        "\n",
        "print(Def_Error_updated_usps) #printing the error"
      ]
    },
    {
      "cell_type": "markdown",
      "source": [
        "Error Rate is decreased because of parameter updation"
      ],
      "metadata": {
        "id": "jh5Hkz1CTrvQ"
      }
    },
    {
      "cell_type": "markdown",
      "metadata": {
        "id": "wQxy7bpK6iD5"
      },
      "source": [
        "Task 6: Create a pipeline for MLPClassifier involving data normalization and\n",
        "MLPClassifier, and use grid search and cross-validation to tune parameter alpha for the pipeline, avoiding data snooping and data leakage. You\n",
        "may use the scikit-learn class GridSearchCV. Experiment with different ways of doing normalization (such as StandardScaler, MinMaxScaler,\n",
        "RobustScaler, and Normalizer). Which ways are appropriate for either\n",
        "dataset? (The answer, which should be written in your Jupyter notebook,\n",
        "may depend on the results that you obtain for the next task.)\n"
      ]
    },
    {
      "cell_type": "code",
      "execution_count": 27,
      "metadata": {
        "colab": {
          "base_uri": "https://localhost:8080/"
        },
        "id": "F1SNJATM6ldQ",
        "outputId": "6479b424-b165-4b83-c985-6f217f5b5481"
      },
      "outputs": [
        {
          "output_type": "stream",
          "name": "stdout",
          "text": [
            "Test Error\n",
            "0.022222222222222254\n",
            "Best Parameters\n",
            "{'mlpclassifier__alpha': 0}\n",
            "Test Error\n",
            "0.022222222222222254\n",
            "Best Parameters\n",
            "{'mlpclassifier__alpha': 0}\n",
            "Test Error\n",
            "0.022222222222222254\n",
            "Best Parameters\n",
            "{'mlpclassifier__alpha': 0}\n"
          ]
        },
        {
          "output_type": "stream",
          "name": "stderr",
          "text": [
            "/usr/local/lib/python3.8/dist-packages/sklearn/neural_network/_multilayer_perceptron.py:692: ConvergenceWarning: Stochastic Optimizer: Maximum iterations (1000) reached and the optimization hasn't converged yet.\n",
            "  warnings.warn(\n",
            "/usr/local/lib/python3.8/dist-packages/sklearn/neural_network/_multilayer_perceptron.py:692: ConvergenceWarning: Stochastic Optimizer: Maximum iterations (1000) reached and the optimization hasn't converged yet.\n",
            "  warnings.warn(\n",
            "/usr/local/lib/python3.8/dist-packages/sklearn/neural_network/_multilayer_perceptron.py:692: ConvergenceWarning: Stochastic Optimizer: Maximum iterations (1000) reached and the optimization hasn't converged yet.\n",
            "  warnings.warn(\n",
            "/usr/local/lib/python3.8/dist-packages/sklearn/neural_network/_multilayer_perceptron.py:692: ConvergenceWarning: Stochastic Optimizer: Maximum iterations (1000) reached and the optimization hasn't converged yet.\n",
            "  warnings.warn(\n",
            "/usr/local/lib/python3.8/dist-packages/sklearn/neural_network/_multilayer_perceptron.py:692: ConvergenceWarning: Stochastic Optimizer: Maximum iterations (1000) reached and the optimization hasn't converged yet.\n",
            "  warnings.warn(\n",
            "/usr/local/lib/python3.8/dist-packages/sklearn/neural_network/_multilayer_perceptron.py:692: ConvergenceWarning: Stochastic Optimizer: Maximum iterations (1000) reached and the optimization hasn't converged yet.\n",
            "  warnings.warn(\n",
            "/usr/local/lib/python3.8/dist-packages/sklearn/neural_network/_multilayer_perceptron.py:692: ConvergenceWarning: Stochastic Optimizer: Maximum iterations (1000) reached and the optimization hasn't converged yet.\n",
            "  warnings.warn(\n",
            "/usr/local/lib/python3.8/dist-packages/sklearn/neural_network/_multilayer_perceptron.py:692: ConvergenceWarning: Stochastic Optimizer: Maximum iterations (1000) reached and the optimization hasn't converged yet.\n",
            "  warnings.warn(\n"
          ]
        },
        {
          "output_type": "stream",
          "name": "stdout",
          "text": [
            "Test Error\n",
            "0.19999999999999996\n",
            "Best Parameters\n",
            "{'mlpclassifier__alpha': 0}\n"
          ]
        },
        {
          "output_type": "stream",
          "name": "stderr",
          "text": [
            "/usr/local/lib/python3.8/dist-packages/sklearn/neural_network/_multilayer_perceptron.py:692: ConvergenceWarning: Stochastic Optimizer: Maximum iterations (1000) reached and the optimization hasn't converged yet.\n",
            "  warnings.warn(\n"
          ]
        }
      ],
      "source": [
        "#Standard Scalar\n",
        "\n",
        "winepipeline_standard=make_pipeline(StandardScaler(), MLPClassifier(hidden_layer_sizes=100,activation='tanh',solver='adam',max_iter=1000,random_state=21)) #pipeline method\n",
        "\n",
        "wineparams_standard={'mlpclassifier__alpha': [0,0.01,1,10]} # Parameters for pipeline \n",
        "\n",
        "winedatasetgridCV_standard=GridSearchCV(winepipeline_standard,param_grid=wineparams_standard, cv=4) #gridsearch method\n",
        "\n",
        "winedatasetgridCV_standard.fit(wine_X_train,wine_Y_train) #training the model\n",
        "\n",
        "winedatasetscore=winedatasetgridCV_standard.score(wine_X_test,wine_Y_test)  #Evaluation \n",
        "\n",
        "perfectvalue_standard= winedatasetgridCV_standard.best_params_ #finding the optimal parameters \n",
        "\n",
        "print(\"Test Error\")\n",
        "print(1-winedatasetscore)\n",
        "print(\"Best Parameters\")\n",
        "print(perfectvalue_standard)\n",
        "\n",
        "#MinMaxScalar\n",
        "\n",
        "winepipeline_MinMax=make_pipeline(MinMaxScaler(), MLPClassifier(hidden_layer_sizes=100,activation='tanh',solver='adam',max_iter=1000,random_state=21)) #pipeline method\n",
        "\n",
        "wineparams_MinMax={'mlpclassifier__alpha': [0,0.01,1,10]}  # Parameters for pipeline \n",
        "\n",
        "winedatasetgridCV_MinMax = GridSearchCV(winepipeline_MinMax,param_grid=wineparams_MinMax, cv=4) #gridsearch method\n",
        "\n",
        "winedatasetgridCV_MinMax.fit(wine_X_train,wine_Y_train) #training the model\n",
        "\n",
        "winedatasetscore_MinMax=winedatasetgridCV_MinMax.score(wine_X_test,wine_Y_test) #Evaluation \n",
        "\n",
        "perfectvalue_MinMax= winedatasetgridCV_MinMax.best_params_ #finding the optimal parameters \n",
        "\n",
        "print(\"Test Error\")\n",
        "print(1-winedatasetscore_MinMax)\n",
        "print(\"Best Parameters\")\n",
        "print(perfectvalue_MinMax)\n",
        "\n",
        "#RobustScalar\n",
        "\n",
        "winepipeline_robust=make_pipeline(RobustScaler(), MLPClassifier(hidden_layer_sizes=100,activation='tanh',solver='adam',max_iter=1000,random_state=21)) #pipeline method\n",
        "\n",
        "wineparams_robust={'mlpclassifier__alpha': [0,0.01,1,10]}  # Parameters for pipeline \n",
        "\n",
        "winedatasetgridCV_robust = GridSearchCV(winepipeline_robust,param_grid=wineparams_robust, cv=4) #gridsearch method\n",
        "\n",
        "winedatasetgridCV_robust.fit(wine_X_train,wine_Y_train) #training the model\n",
        "\n",
        "winedatasetscore_robust=winedatasetgridCV_robust.score(wine_X_test,wine_Y_test)  #Evaluation \n",
        "\n",
        "perfectvalue_robust= winedatasetgridCV_robust.best_params_ #finding the optimal parameters \n",
        "\n",
        "print(\"Test Error\")\n",
        "print(1-winedatasetscore_robust)\n",
        "print(\"Best Parameters\")\n",
        "print(perfectvalue_robust)\n",
        "\n",
        "#Normalizer\n",
        "\n",
        "winepipeline_normal=make_pipeline(Normalizer(), MLPClassifier(hidden_layer_sizes=100,activation='tanh',solver='adam',max_iter=1000,random_state=21)) #pipeline method\n",
        "\n",
        "wineparams_normal={'mlpclassifier__alpha': [0,0.01,1,10]}  # Parameters for pipeline \n",
        "\n",
        "winedatasetgridCV_normal = GridSearchCV(winepipeline_normal,param_grid=wineparams_normal,cv=4) #gridsearch method\n",
        "\n",
        "winedatasetgridCV_normal.fit(wine_X_train,wine_Y_train) #training the model\n",
        "\n",
        "winedatasetscore_normal=winedatasetgridCV_normal.score(wine_X_test,wine_Y_test)  #Evaluation \n",
        "\n",
        "perfectvalue_normal= winedatasetgridCV_normal.best_params_ #finding the optimal parameters \n",
        "\n",
        "print(\"Test Error\")\n",
        "print(1-winedatasetscore_normal)\n",
        "print(\"Best Parameters\")\n",
        "print(perfectvalue_normal)\n"
      ]
    },
    {
      "cell_type": "markdown",
      "metadata": {
        "id": "VRC4s9Kptnvj"
      },
      "source": [
        "Task 7. Fit the GridSearchCV object of task 6 to the training set and use it to\n",
        "predict the test labels. Write the resulting test error rate in your Jupyter\n",
        "notebook."
      ]
    },
    {
      "cell_type": "code",
      "execution_count": 29,
      "metadata": {
        "colab": {
          "base_uri": "https://localhost:8080/"
        },
        "id": "7CPshn-6tpbo",
        "outputId": "191cc5e9-c45c-4c7b-9a3f-8b0113007cd5"
      },
      "outputs": [
        {
          "output_type": "stream",
          "name": "stdout",
          "text": [
            "Test error With Default Parameters\n",
            "1.0002222222222223\n",
            "Test error With Default Parameters\n",
            "1.0002222222222223\n",
            "Test error With Default Parameters\n",
            "1.0002222222222223\n",
            "Test error With Default Parameters\n",
            "1.0002222222222223\n"
          ]
        }
      ],
      "source": [
        "#Standard Scalar\n",
        "Ypredstandard = winedatasetgridCV_standard.predict(wine_X_test) #Predicting the values\n",
        "\n",
        "Def_Error_stand = 0.0 # initialise the value with zero\n",
        "\n",
        "for abc in range(len(Ypredstandard)):  #for range loop \n",
        "\n",
        "  if Ypredstandard[abc]==wine_Y_test[abc]: #checking the values with predicted and test\n",
        "\n",
        "    Def_Error_stand+=1  #incrementing the count to check error\n",
        "\n",
        "Wine_Error_stand = Def_Error/len(Ypredstandard)  #checking the length\n",
        "\n",
        "print(\"Test error With Default Parameters\")\n",
        "print(Wine_Error_stand/100) #printing the error\n",
        "\n",
        "#MinMaxScalar\n",
        "Ypredminmax = winedatasetgridCV_MinMax.predict(wine_X_test) #prediction function\n",
        "Def_Error_minmax = 0.0 # initialise the value with zero\n",
        "\n",
        "for abc in range(len(Ypredminmax)):  #for range loop \n",
        "\n",
        "  if Ypredminmax[abc]==wine_Y_test[abc]: #checking the values with predicted and test\n",
        "\n",
        "    Def_Error_minmax+=1  #incrementing the count to check error\n",
        "\n",
        "Wine_Error_minmax = Def_Error/len(Ypredminmax)  #checking the length\n",
        "\n",
        "print(\"Test error With Default Parameters\")\n",
        "print(Wine_Error_minmax/100) #printing the error\n",
        "\n",
        "#RobustScalar\n",
        "Ypredrobust = winedatasetgridCV_robust.predict(wine_X_test)\n",
        "\n",
        "Def_Error_robust = 0.0 # initialise the value with zero\n",
        "\n",
        "for abc in range(len(Ypredrobust)):  #for range loop \n",
        "\n",
        "  if Ypredrobust[abc]==wine_Y_test[abc]: #checking the values with predicted and test\n",
        "\n",
        "    Def_Error_robust+=1  #incrementing the count to check error\n",
        "\n",
        "Wine_Error_robust = Def_Error/len(Ypredrobust)  #checking the length\n",
        "\n",
        "print(\"Test error With Default Parameters\")\n",
        "print(Wine_Error_robust/100) #printing the error\n",
        "\n",
        "#Normalizer\n",
        "Yprednorm = winedatasetgridCV_normal.predict(wine_X_test)\n",
        "\n",
        "Def_Error_norm = 0.0 # initialise the value with zero\n",
        "\n",
        "for abc in range(len(Yprednorm)):  #for range loop \n",
        "\n",
        "  if Yprednorm[abc]==wine_Y_test[abc]: #checking the values with predicted and test\n",
        "\n",
        "    Def_Error_norm+=1  #incrementing the count to check error\n",
        "\n",
        "Wine_Error_norm = Def_Error/len(Yprednorm)  #checking the length\n",
        "\n",
        "print(\"Test error With Default Parameters\")\n",
        "print(Wine_Error_norm/100) #printing the error\n"
      ]
    },
    {
      "cell_type": "markdown",
      "metadata": {
        "id": "joTJ26Xly-I7"
      },
      "source": [
        "Task 9. An alternative to implementing a cross-conformal predictor is to experiment with a Support Vector Machine. Perform tasks 4–7 for the class\n",
        "SVC in scikit-learn, as described in Lab Worksheet 8, Section 3. The\n",
        "parameters to fit using grid search are C and gamma."
      ]
    },
    {
      "cell_type": "markdown",
      "metadata": {
        "id": "3DHJuxSY-sBj"
      },
      "source": [
        "Wine Data"
      ]
    },
    {
      "cell_type": "code",
      "execution_count": 13,
      "metadata": {
        "colab": {
          "base_uri": "https://localhost:8080/"
        },
        "id": "NElYXSKb6-Wx",
        "outputId": "520c1b78-5da0-48e3-d6d7-f3970df0f9d6"
      },
      "outputs": [
        {
          "output_type": "stream",
          "name": "stdout",
          "text": [
            "Svm generalisation accuracy @ default\n",
            "0.7068376068376068\n"
          ]
        }
      ],
      "source": [
        "support = SVC() #importing svm\n",
        "\n",
        "svm_train = cross_val_score(support,wine_X_train,wine_Y_train) #cross validation score\n",
        "\n",
        "print('Svm generalisation accuracy @ default')\n",
        "\n",
        "print(np.mean(svm_train)) #for Accuracy"
      ]
    },
    {
      "cell_type": "code",
      "execution_count": 14,
      "metadata": {
        "colab": {
          "base_uri": "https://localhost:8080/"
        },
        "id": "Vg8wP1lU7Y0T",
        "outputId": "fd799a68-10be-4d33-c2ac-3767e9b7b456"
      },
      "outputs": [
        {
          "output_type": "stream",
          "name": "stdout",
          "text": [
            "svm test error rate 0.4222222222222223\n"
          ]
        }
      ],
      "source": [
        "support.fit(wine_X_train,wine_Y_train) #for training the model\n",
        "\n",
        "svm_test = support.score(wine_X_test,wine_Y_test) #for predicting the values\n",
        "\n",
        "svm_test_er = 1- svm_test #checking the error\n",
        "\n",
        "print('svm test error rate',svm_test_er) #printing the error"
      ]
    },
    {
      "cell_type": "code",
      "execution_count": 15,
      "metadata": {
        "colab": {
          "base_uri": "https://localhost:8080/"
        },
        "id": "ahQ7WaiB8IJ5",
        "outputId": "d3030a96-0001-4672-8be6-cd9a9b723ca0"
      },
      "outputs": [
        {
          "output_type": "stream",
          "name": "stdout",
          "text": [
            "Accuracy of test: 0.9777777777777777\n",
            "Error Rate of test: 0.022222222222222254\n"
          ]
        }
      ],
      "source": [
        "minmax_wine_pl = make_pipeline(MinMaxScaler(), SVC()) #method for Minmax Scalar of wine dataset\n",
        "\n",
        "stand_wine_pl  = make_pipeline(StandardScaler(),SVC())#method for standard Scalar of wine dataset\n",
        "\n",
        "norm_wine_pl  = make_pipeline(Normalizer(),SVC())#method for Normaliser Scalar of wine dataset\n",
        "\n",
        "robust_wine_pl  = make_pipeline(RobustScaler(),SVC())#method for Robust Scalar of wine dataset\n",
        "\n",
        "grid_wine_param = {'svc__C': [0.001, 0.01, 0.1, 1, 10],'svc__gamma': [0.001, 0.01, 0.1, 1, 10]} #Parameters\n",
        "\n",
        "\n",
        "wine_search_grid = GridSearchCV(minmax_wine_pl, grid_wine_param , cv=4) #grid search metod\n",
        "\n",
        "wine_search_grid.fit(wine_X_train,wine_Y_train) #training the values\n",
        "\n",
        "print('Accuracy of test:',wine_search_grid.score(wine_X_test,wine_Y_test)) #Accuracy checking\n",
        "\n",
        "print('Error Rate of test:',1-wine_search_grid.score(wine_X_test,wine_Y_test)) #Error Checking"
      ]
    },
    {
      "cell_type": "markdown",
      "metadata": {
        "id": "m5Ya_hc99Nw-"
      },
      "source": [
        "Using StandardScaler for doing data normalization"
      ]
    },
    {
      "cell_type": "code",
      "execution_count": 16,
      "metadata": {
        "colab": {
          "base_uri": "https://localhost:8080/"
        },
        "id": "96IS5MQ99PEl",
        "outputId": "372caddd-dce4-4c01-f363-07f07d90f585"
      },
      "outputs": [
        {
          "output_type": "stream",
          "name": "stdout",
          "text": [
            "Accuracy of test: 0.9777777777777777\n",
            "Error Rate of test: 0.022222222222222254\n"
          ]
        }
      ],
      "source": [
        "wine_stand_grid = GridSearchCV(stand_wine_pl, grid_wine_param, cv=4) #grid search metod\n",
        "\n",
        "wine_stand_grid.fit(wine_X_train,wine_Y_train) #training the values\n",
        "\n",
        "print('Accuracy of test:',wine_search_grid.score(wine_X_test,wine_Y_test)) #Accuracy checking\n",
        "\n",
        "print('Error Rate of test:',1-wine_search_grid.score(wine_X_test,wine_Y_test)) #Error Checking"
      ]
    },
    {
      "cell_type": "markdown",
      "metadata": {
        "id": "zjYbNlfC9fd-"
      },
      "source": [
        "Using Normalizer for doing data normalization"
      ]
    },
    {
      "cell_type": "code",
      "execution_count": 17,
      "metadata": {
        "colab": {
          "base_uri": "https://localhost:8080/"
        },
        "id": "y23vQ75P9gig",
        "outputId": "9e59e007-b4d6-401e-fd05-4078ae881f6e"
      },
      "outputs": [
        {
          "output_type": "stream",
          "name": "stdout",
          "text": [
            "Accuracy of test: 0.6666666666666666\n",
            "Test Error Rate: 0.33333333333333337\n"
          ]
        }
      ],
      "source": [
        "wine_norm_grid = GridSearchCV(norm_wine_pl, grid_wine_param, cv=4) #grid search metod\n",
        "\n",
        "wine_norm_grid.fit(wine_X_train,wine_Y_train) #training the values\n",
        "\n",
        "print('Accuracy of test:',wine_norm_grid.score(wine_X_test,wine_Y_test)) #Accuracy checking\n",
        "\n",
        "print('Test Error Rate:',1-wine_norm_grid.score(wine_X_test,wine_Y_test))  #Error Checking"
      ]
    },
    {
      "cell_type": "markdown",
      "metadata": {
        "id": "JChZhlmO9vh9"
      },
      "source": [
        "Using RobustScaler for doing data normalization"
      ]
    },
    {
      "cell_type": "code",
      "execution_count": 18,
      "metadata": {
        "colab": {
          "base_uri": "https://localhost:8080/"
        },
        "id": "cyX25CKl9y2Q",
        "outputId": "2cfaabd5-4c83-4282-cee8-7e969a6e9965"
      },
      "outputs": [
        {
          "output_type": "stream",
          "name": "stdout",
          "text": [
            "Accuracy of test: 1.0\n",
            "Error Rate of test: 0.0\n"
          ]
        }
      ],
      "source": [
        "wine_rs_grid = GridSearchCV(robust_wine_pl,grid_wine_param, cv=4)  #grid search metod\n",
        "\n",
        "wine_rs_grid.fit(wine_X_train,wine_Y_train) #training the values\n",
        "\n",
        "print('Accuracy of test:',wine_rs_grid.score(wine_X_test,wine_Y_test)) #Accuracy checking\n",
        "\n",
        "print('Error Rate of test:',1-wine_rs_grid.score(wine_X_test,wine_Y_test))  #Error Checking"
      ]
    },
    {
      "cell_type": "markdown",
      "metadata": {
        "id": "7NcX1TNp-T4W"
      },
      "source": [
        "MINMax"
      ]
    },
    {
      "cell_type": "code",
      "execution_count": 19,
      "metadata": {
        "colab": {
          "base_uri": "https://localhost:8080/"
        },
        "id": "x0uXRjQA-TgQ",
        "outputId": "cdc41771-86fb-419a-b3b9-0664f9fb6923"
      },
      "outputs": [
        {
          "output_type": "stream",
          "name": "stdout",
          "text": [
            "Accuracy of test: 1.0\n",
            "Error Rate of test: 0.0\n"
          ]
        }
      ],
      "source": [
        "wine_mm_grid= GridSearchCV(minmax_wine_pl, grid_wine_param, cv=5)  #grid search metod\n",
        "\n",
        "wine_mm_grid.fit(wine_X_train,wine_Y_train) #training the values\n",
        "\n",
        "print('Accuracy of test:',wine_mm_grid.score(wine_X_test,wine_Y_test))  #Accuracy checking\n",
        "\n",
        "print('Error Rate of test:',1-wine_mm_grid.score(wine_X_test,wine_Y_test)) #Error Checking"
      ]
    },
    {
      "cell_type": "markdown",
      "metadata": {
        "id": "cYHABGN9_72w"
      },
      "source": [
        "USPS Data"
      ]
    },
    {
      "cell_type": "code",
      "execution_count": 20,
      "metadata": {
        "colab": {
          "base_uri": "https://localhost:8080/"
        },
        "id": "8o5g7EmZ_-Ex",
        "outputId": "72ac5ba0-9d80-41a7-9096-9a5147384151"
      },
      "outputs": [
        {
          "output_type": "stream",
          "name": "stdout",
          "text": [
            "Svm generalisation accuracy @ default nan\n"
          ]
        },
        {
          "output_type": "stream",
          "name": "stderr",
          "text": [
            "/usr/local/lib/python3.8/dist-packages/sklearn/model_selection/_validation.py:372: FitFailedWarning: \n",
            "5 fits failed out of a total of 5.\n",
            "The score on these train-test partitions for these parameters will be set to nan.\n",
            "If these failures are not expected, you can try to debug them by setting error_score='raise'.\n",
            "\n",
            "Below are more details about the failures:\n",
            "--------------------------------------------------------------------------------\n",
            "3 fits failed with the following error:\n",
            "Traceback (most recent call last):\n",
            "  File \"/usr/local/lib/python3.8/dist-packages/sklearn/model_selection/_validation.py\", line 680, in _fit_and_score\n",
            "    estimator.fit(X_train, y_train, **fit_params)\n",
            "  File \"/usr/local/lib/python3.8/dist-packages/sklearn/svm/_base.py\", line 190, in fit\n",
            "    X, y = self._validate_data(\n",
            "  File \"/usr/local/lib/python3.8/dist-packages/sklearn/base.py\", line 581, in _validate_data\n",
            "    X, y = check_X_y(X, y, **check_params)\n",
            "  File \"/usr/local/lib/python3.8/dist-packages/sklearn/utils/validation.py\", line 979, in check_X_y\n",
            "    y = _check_y(y, multi_output=multi_output, y_numeric=y_numeric)\n",
            "  File \"/usr/local/lib/python3.8/dist-packages/sklearn/utils/validation.py\", line 993, in _check_y\n",
            "    y = column_or_1d(y, warn=True)\n",
            "  File \"/usr/local/lib/python3.8/dist-packages/sklearn/utils/validation.py\", line 1038, in column_or_1d\n",
            "    raise ValueError(\n",
            "ValueError: y should be a 1d array, got an array of shape (5578, 256) instead.\n",
            "\n",
            "--------------------------------------------------------------------------------\n",
            "2 fits failed with the following error:\n",
            "Traceback (most recent call last):\n",
            "  File \"/usr/local/lib/python3.8/dist-packages/sklearn/model_selection/_validation.py\", line 680, in _fit_and_score\n",
            "    estimator.fit(X_train, y_train, **fit_params)\n",
            "  File \"/usr/local/lib/python3.8/dist-packages/sklearn/svm/_base.py\", line 190, in fit\n",
            "    X, y = self._validate_data(\n",
            "  File \"/usr/local/lib/python3.8/dist-packages/sklearn/base.py\", line 581, in _validate_data\n",
            "    X, y = check_X_y(X, y, **check_params)\n",
            "  File \"/usr/local/lib/python3.8/dist-packages/sklearn/utils/validation.py\", line 979, in check_X_y\n",
            "    y = _check_y(y, multi_output=multi_output, y_numeric=y_numeric)\n",
            "  File \"/usr/local/lib/python3.8/dist-packages/sklearn/utils/validation.py\", line 993, in _check_y\n",
            "    y = column_or_1d(y, warn=True)\n",
            "  File \"/usr/local/lib/python3.8/dist-packages/sklearn/utils/validation.py\", line 1038, in column_or_1d\n",
            "    raise ValueError(\n",
            "ValueError: y should be a 1d array, got an array of shape (5579, 256) instead.\n",
            "\n",
            "  warnings.warn(some_fits_failed_message, FitFailedWarning)\n"
          ]
        }
      ],
      "source": [
        "support_usps = SVC()  #importing svm\n",
        "\n",
        "svmm_train = cross_val_score(support_usps,usps_X_train,usps_X_train) #cross validation \n",
        "\n",
        "print('Svm generalisation accuracy @ default',np.mean(svmm_train)) #accuracy check"
      ]
    },
    {
      "cell_type": "code",
      "execution_count": 21,
      "metadata": {
        "colab": {
          "base_uri": "https://localhost:8080/"
        },
        "id": "cmD0VZOJAU6-",
        "outputId": "c490f000-868b-487f-a118-8e2415f96c48"
      },
      "outputs": [
        {
          "output_type": "stream",
          "name": "stdout",
          "text": [
            "svm test error rate 0.0283870967741936\n"
          ]
        }
      ],
      "source": [
        "support_usps.fit(usps_X_train,usps_Y_train) #for training the model\n",
        "\n",
        "usps_test = support_usps.score(usps_X_test,usps_Y_test) #for predicting the values\n",
        "\n",
        "usps_test_er = 1- usps_test #checking the error\n",
        "\n",
        "print('svm test error rate',usps_test_er) #Printing the error"
      ]
    },
    {
      "cell_type": "code",
      "execution_count": 22,
      "metadata": {
        "id": "8lIO9f2oCQCA"
      },
      "outputs": [],
      "source": [
        "minmax_usps_pl = make_pipeline(MinMaxScaler(), SVC()) #method for Minmax Scalar of usps dataset\n",
        "\n",
        "stand_usps_pl  = make_pipeline(StandardScaler(),SVC()) #method for standard Scalar of usps dataset\n",
        "\n",
        "norm_usps_pl  = make_pipeline(Normalizer(),SVC()) #method for Normaliser Scalar of usps dataset\n",
        "\n",
        "robust_usps_pl  = make_pipeline(RobustScaler(),SVC()) #method for Robust Scalar of usps dataset"
      ]
    },
    {
      "cell_type": "code",
      "execution_count": 23,
      "metadata": {
        "colab": {
          "base_uri": "https://localhost:8080/"
        },
        "id": "yjSv0QtsCNlS",
        "outputId": "12125ebf-3e29-4c74-e449-a93c005e2bb4"
      },
      "outputs": [
        {
          "output_type": "stream",
          "name": "stdout",
          "text": [
            "Accuracy of test: 0.9255913978494623\n",
            "Error Rate of test: 0.07440860215053768\n"
          ]
        }
      ],
      "source": [
        "\n",
        "grid_usps_param = {'svc__C': [0.001, 0.01, 0.1],'svc__gamma': [0.001, 0.01, 0.1]} #Parameters\n",
        "\n",
        "grid_usps_mm = GridSearchCV(minmax_usps_pl, grid_usps_param, cv=2) #grid search metod\n",
        "\n",
        "grid_usps_mm.fit(usps_X_train,usps_Y_train)  #training the values\n",
        "\n",
        "print('Accuracy of test:',grid_usps_mm.score(usps_X_test,usps_Y_test))  #Accuracy checking\n",
        "\n",
        "print('Error Rate of test:',1-grid_usps_mm.score(usps_X_test,usps_Y_test)) #Error Checking"
      ]
    },
    {
      "cell_type": "code",
      "execution_count": 24,
      "metadata": {
        "colab": {
          "base_uri": "https://localhost:8080/"
        },
        "id": "hkxgLnRaEgj2",
        "outputId": "5a114a17-0666-461c-eecd-90858fd159e3"
      },
      "outputs": [
        {
          "output_type": "stream",
          "name": "stdout",
          "text": [
            "Accuracy of test: 0.9144086021505377\n",
            "Error Rate of test: 0.08559139784946235\n"
          ]
        }
      ],
      "source": [
        "grid_usps_stand = GridSearchCV(stand_usps_pl, grid_usps_param, cv=2)  #grid search metod\n",
        "\n",
        "grid_usps_stand.fit(usps_X_train,usps_Y_train) #training the values\n",
        "\n",
        "print('Accuracy of test:',grid_usps_stand.score(usps_X_test,usps_Y_test)) #Accuracy checking\n",
        "\n",
        "print('Error Rate of test:',1-grid_usps_stand.score(usps_X_test,usps_Y_test)) #Error Checking"
      ]
    },
    {
      "cell_type": "code",
      "execution_count": 25,
      "metadata": {
        "colab": {
          "base_uri": "https://localhost:8080/"
        },
        "id": "qOd2eHunEzeb",
        "outputId": "5a481549-3016-4da1-e6a6-409e55905690"
      },
      "outputs": [
        {
          "output_type": "stream",
          "name": "stdout",
          "text": [
            "Accuracy of test: 0.8649462365591398\n",
            "Error Rate of test: 0.13505376344086018\n"
          ]
        }
      ],
      "source": [
        "grid_usps_norm = GridSearchCV(norm_usps_pl, grid_usps_param, cv=2)  #grid search metod\n",
        "\n",
        "grid_usps_norm.fit(usps_X_train,usps_Y_train)  #training the values\n",
        "\n",
        "print('Accuracy of test:',grid_usps_norm.score(usps_X_test,usps_Y_test)) #Accuracy checking\n",
        "\n",
        "print('Error Rate of test:',1-grid_usps_norm.score(usps_X_test,usps_Y_test))#Error Checking"
      ]
    },
    {
      "cell_type": "code",
      "execution_count": 26,
      "metadata": {
        "colab": {
          "base_uri": "https://localhost:8080/"
        },
        "id": "ktLEMmIAE0TE",
        "outputId": "2d6ae729-0821-4b53-eec9-940aca290ba6"
      },
      "outputs": [
        {
          "output_type": "stream",
          "name": "stdout",
          "text": [
            "Accuracy of test: 0.693763440860215\n",
            "Error Rate of test: 0.306236559139785\n"
          ]
        }
      ],
      "source": [
        "grid_usps_rs = GridSearchCV(robust_usps_pl, grid_usps_param, cv=2)  #grid search metod\n",
        "\n",
        "grid_usps_rs.fit(usps_X_train,usps_Y_train) #training the values\n",
        "\n",
        "print('Accuracy of test:',grid_usps_rs.score(usps_X_test,usps_Y_test))#Accuracy checking\n",
        "\n",
        "print('Error Rate of test:',1-grid_usps_rs.score(usps_X_test,usps_Y_test)) #Error Checking"
      ]
    }
  ],
  "metadata": {
    "colab": {
      "provenance": []
    },
    "kernelspec": {
      "display_name": "Python 3",
      "name": "python3"
    },
    "language_info": {
      "name": "python"
    }
  },
  "nbformat": 4,
  "nbformat_minor": 0
}