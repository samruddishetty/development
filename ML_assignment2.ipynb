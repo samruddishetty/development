{
  "nbformat": 4,
  "nbformat_minor": 0,
  "metadata": {
    "colab": {
      "provenance": []
    },
    "kernelspec": {
      "name": "python3",
      "display_name": "Python 3"
    },
    "language_info": {
      "name": "python"
    },
    "accelerator": "GPU",
    "gpuClass": "standard"
  },
  "cells": [
    {
      "cell_type": "markdown",
      "source": [
        "1)Load the scikit-learn version of the diabetes dataset into your Jupyter\n",
        "notebook using the load_diabetes function."
      ],
      "metadata": {
        "id": "Fu9m12lH7W6-"
      }
    },
    {
      "cell_type": "code",
      "execution_count": 1,
      "metadata": {
        "id": "GaJkmNX7n6GV"
      },
      "outputs": [],
      "source": [
        "import numpy as np\n",
        "import pandas as pd\n",
        "from sklearn.metrics import r2_score\n",
        "from sklearn.datasets import load_diabetes\n",
        "from sklearn.model_selection import train_test_split\n",
        "from sklearn.linear_model import Lasso\n",
        "\n",
        "\n",
        "ds = load_diabetes() #Default Dataset for diabetes\n",
        "features= ds.data #Dataset features\n",
        "labels = ds.target #Dataset labels\n"
      ]
    },
    {
      "cell_type": "markdown",
      "source": [
        "2. Split the dataset into the training and test sets. You may use the function\n",
        "train_test_split in scikit-learn. Here and below use your birthday\n",
        "(in the format DDMM omitting leading zeros if any) as random_state.\n"
      ],
      "metadata": {
        "id": "flQTNctmRyVt"
      }
    },
    {
      "cell_type": "code",
      "source": [
        "training_x,test_x,training_y,test_y = train_test_split(features, labels,test_size = 0.25, random_state = 210) # splitting the dataset\n",
        "l_df = Lasso(alpha = 1.0) #Lasso model\n",
        "l_df.fit(training_x,training_y) #Lasso Model fitting\n",
        "\n",
        "\n",
        "# Lasso's default parameter is alpha and the default value of alpha is one\n",
        "#We are doing supervised learning here\n",
        "x_predict= l_df.predict(training_x) #Predicting the training dataset\n",
        "x1_predict= l_df.predict(test_x) #Predicting the test dataset"
      ],
      "metadata": {
        "id": "jexVwhZQRsGN"
      },
      "execution_count": 2,
      "outputs": []
    },
    {
      "cell_type": "markdown",
      "source": [
        "3. What is the training and test R2\n",
        "for the Lasso model using the default\n",
        "parameters? How many features does this model use? What are the names\n",
        "of those features? Write the answers in your Jupyter notebook. Here and\n",
        "below, you are allowed to use any scikit-learn functions. (You may also\n",
        "use numpy and matplotlib functions.)\n"
      ],
      "metadata": {
        "id": "PIom3C9NSMuD"
      }
    },
    {
      "cell_type": "code",
      "source": [
        "#training and test R2\n",
        "RR1= r2_score(training_y,x_predict) #Predicting the training r2 score\n",
        "RR2 = r2_score(test_y,x1_predict) #predicting the test r2 score"
      ],
      "metadata": {
        "id": "JXNgM56jSbGs"
      },
      "execution_count": 3,
      "outputs": []
    },
    {
      "cell_type": "code",
      "source": [
        "RR1"
      ],
      "metadata": {
        "colab": {
          "base_uri": "https://localhost:8080/"
        },
        "id": "AwQb4rMOyy8o",
        "outputId": "9eef79f9-5961-4aed-d2db-03ff64a63f30"
      },
      "execution_count": 4,
      "outputs": [
        {
          "output_type": "execute_result",
          "data": {
            "text/plain": [
              "0.35474379383769117"
            ]
          },
          "metadata": {},
          "execution_count": 4
        }
      ]
    },
    {
      "cell_type": "code",
      "source": [
        "RR2"
      ],
      "metadata": {
        "colab": {
          "base_uri": "https://localhost:8080/"
        },
        "id": "FinHoJbW1srv",
        "outputId": "7cee16c6-c162-45c8-9080-f4acf85b04a7"
      },
      "execution_count": 5,
      "outputs": [
        {
          "output_type": "execute_result",
          "data": {
            "text/plain": [
              "0.3676749332056657"
            ]
          },
          "metadata": {},
          "execution_count": 5
        }
      ]
    },
    {
      "cell_type": "code",
      "source": [
        "#The features that are used in lasso method are\n",
        "ds.feature_names"
      ],
      "metadata": {
        "colab": {
          "base_uri": "https://localhost:8080/"
        },
        "id": "Bc1rAfzE6vam",
        "outputId": "14f98255-9f32-4c4b-cea0-701cb2193272"
      },
      "execution_count": 6,
      "outputs": [
        {
          "output_type": "execute_result",
          "data": {
            "text/plain": [
              "['age', 'sex', 'bmi', 'bp', 's1', 's2', 's3', 's4', 's5', 's6']"
            ]
          },
          "metadata": {},
          "execution_count": 6
        }
      ]
    },
    {
      "cell_type": "code",
      "source": [
        "#WHAT FEATURES USED  on lasso method\n",
        "coeff = l_df.coef_ #coef is the method used to check the coefficients in lasso model, based on this value the parameters that are used get to know\n",
        "coeff\n",
        "#There are only 2 positive values and that three positive features are in the positions 3,4,9\n",
        "#The positive values are 387.9357373,  300.94576619 \n",
        "#features are 'bmi', 's5'\n"
      ],
      "metadata": {
        "colab": {
          "base_uri": "https://localhost:8080/"
        },
        "id": "CrS_ePI-2ZBU",
        "outputId": "ff16d63a-71eb-4828-d25d-3394d1897b0e"
      },
      "execution_count": 7,
      "outputs": [
        {
          "output_type": "execute_result",
          "data": {
            "text/plain": [
              "array([  0.        ,  -0.        , 387.9357373 ,   0.        ,\n",
              "         0.        ,   0.        ,  -0.        ,   0.        ,\n",
              "       300.94576619,   0.        ])"
            ]
          },
          "metadata": {},
          "execution_count": 7
        }
      ]
    },
    {
      "cell_type": "markdown",
      "source": [
        "4) Now load the original diabetes dataset from the web page given above.\n",
        "Download the file\n",
        "Tab-delimited diabetes data (text file)\n",
        "by right-clicking on it. All the remaining tasks should be performed using\n",
        "this file (diabetes.data), which is the original diabetes dataset. The\n",
        "labels are given in the last column of the file diabetes.data."
      ],
      "metadata": {
        "id": "Sd3qpApNtQkJ"
      }
    },
    {
      "cell_type": "code",
      "source": [
        "data1 = pd.read_csv('/content/diabetes.data', delimiter='\\t') # Loading the original dataset by uploading the file given in moodle "
      ],
      "metadata": {
        "id": "hzrQT5KI7I2O"
      },
      "execution_count": 8,
      "outputs": []
    },
    {
      "cell_type": "markdown",
      "source": [
        "5. Split the dataset into the training and test sets. Use your birthday (in the\n",
        "format DDMM) as random_state.\n"
      ],
      "metadata": {
        "id": "QZ27GcwWUqvW"
      }
    },
    {
      "cell_type": "code",
      "source": [
        "labels_originaldataset = data1['Y'] #extracting the labels from dataset\n",
        "features_originaldataset = data1[['AGE','SEX','BMI','BP','S1','S2','S3','S4','S5','S6']] #Extracting the features from dataset\n",
        "training_x_originaldataset,test_x_originaldataset,training_y_originaldataset,test_y_originaldataset = train_test_split(features_originaldataset, labels_originaldataset,test_size = 0.25, random_state = 210) #Splitting the dataset"
      ],
      "metadata": {
        "id": "UrPqQ8Je9REt"
      },
      "execution_count": 9,
      "outputs": []
    },
    {
      "cell_type": "markdown",
      "source": [
        "6. Repeat item 3 for the current dataset. Comment on the differences from\n",
        "what you saw in item 3."
      ],
      "metadata": {
        "id": "WY7-WaYSU-tx"
      }
    },
    {
      "cell_type": "code",
      "source": [
        "l_df_originaldataset = Lasso(alpha = 1.0) #Model for original dataset\n",
        "l_df_originaldataset.fit(training_x_originaldataset,training_y) #Fitting the original dataset\n",
        "x_predict= l_df_originaldataset.predict(training_x_originaldataset) #Predicting the training dataset\n",
        "x1_predict= l_df_originaldataset.predict(test_x_originaldataset) #Predicting the test dataset\n",
        "\n",
        "#training and test R2\n",
        "RR1_originaldataset= r2_score(training_y_originaldataset,x_predict) #Getting the score for Training dataset \n",
        "RR2_originaldataset = r2_score(test_y_originaldataset,x1_predict) #Getting the score for test dataset original"
      ],
      "metadata": {
        "id": "r26kkhDt-mwF"
      },
      "execution_count": 10,
      "outputs": []
    },
    {
      "cell_type": "code",
      "source": [
        "RR1_originaldataset"
      ],
      "metadata": {
        "colab": {
          "base_uri": "https://localhost:8080/"
        },
        "id": "cn4J48Pb-x8j",
        "outputId": "85e3a865-2318-4550-889a-6793e8a6f7cf"
      },
      "execution_count": 11,
      "outputs": [
        {
          "output_type": "execute_result",
          "data": {
            "text/plain": [
              "0.5096235919105848"
            ]
          },
          "metadata": {},
          "execution_count": 11
        }
      ]
    },
    {
      "cell_type": "code",
      "source": [
        "RR2_originaldataset"
      ],
      "metadata": {
        "colab": {
          "base_uri": "https://localhost:8080/"
        },
        "id": "GQJM0YrC-0Xb",
        "outputId": "c9314119-9ce2-4633-ffa9-62baf739a604"
      },
      "execution_count": 12,
      "outputs": [
        {
          "output_type": "execute_result",
          "data": {
            "text/plain": [
              "0.5022855939113965"
            ]
          },
          "metadata": {},
          "execution_count": 12
        }
      ]
    },
    {
      "cell_type": "markdown",
      "source": [
        "7)Preprocess the training and test sets in the same way and avoiding data snooping. Use StandardScaler.\n"
      ],
      "metadata": {
        "id": "Ba7hc0R7tyDw"
      }
    },
    {
      "cell_type": "code",
      "source": [
        "from sklearn.preprocessing import StandardScaler #importing the libraries for standard scalar\n",
        "std = StandardScaler() #instance for standard scalar\n",
        "std.fit(training_x_originaldataset) # doing the normalisation\n",
        "#w eapply transform on features only.\n",
        "#we transform trainig_x only training data\n",
        "std1 = std.transform(training_x_originaldataset) #applying the transformation for traing dataset\n",
        "#we do transform for testing as well\n",
        "std2 = std.transform(test_x_originaldataset) #applying the transformation for test dataset"
      ],
      "metadata": {
        "id": "KcrP7kSnlEmH"
      },
      "execution_count": 13,
      "outputs": []
    },
    {
      "cell_type": "code",
      "source": [
        "#8th\n",
        "l_df_afterscaling = Lasso(alpha = 1.0) #Model after scaling and transformation\n",
        "l_df_afterscaling.fit(std1,training_y_originaldataset) #fitting the traing\n",
        "\n",
        "\n",
        "# Lasso's default parameter is alpha and the default value of alpha is one\n",
        "#We are doing supervised learning here\n",
        "x_predict= l_df_afterscaling.predict(std1) # predicting the training \n",
        "x1_predict= l_df_afterscaling.predict(std2) #predicting the test\n",
        "\n",
        "#training and test R2\n",
        "RR1_afterscaling= r2_score(training_y_originaldataset,x_predict) #Training R2 \n",
        "RR2_afterscaling = r2_score(test_y_originaldataset,x1_predict) # Test  R2"
      ],
      "metadata": {
        "id": "D0f5nEvLn5dr"
      },
      "execution_count": 14,
      "outputs": []
    },
    {
      "cell_type": "code",
      "source": [
        "RR1_afterscaling"
      ],
      "metadata": {
        "colab": {
          "base_uri": "https://localhost:8080/"
        },
        "id": "18Aqze8uoI6_",
        "outputId": "9716b2e2-c083-4004-a312-b9b6b26d1900"
      },
      "execution_count": 15,
      "outputs": [
        {
          "output_type": "execute_result",
          "data": {
            "text/plain": [
              "0.5122134281592892"
            ]
          },
          "metadata": {},
          "execution_count": 15
        }
      ]
    },
    {
      "cell_type": "code",
      "source": [
        "RR2_afterscaling"
      ],
      "metadata": {
        "colab": {
          "base_uri": "https://localhost:8080/"
        },
        "id": "5zNLPKEWoN5Y",
        "outputId": "ba97c753-a1a7-4b57-d87e-3bc00497451f"
      },
      "execution_count": 16,
      "outputs": [
        {
          "output_type": "execute_result",
          "data": {
            "text/plain": [
              "0.5116878861038713"
            ]
          },
          "metadata": {},
          "execution_count": 16
        }
      ]
    },
    {
      "cell_type": "markdown",
      "source": [
        "8. Repeat item 3 for the current training and test sets (which you should\n",
        "use in items 8–10). Are your current results closer to those in item 3 or\n",
        "item 6? Notice that a priori you would expect your current results to be\n",
        "closer to those in item 3, since the reason for different results in items 3\n",
        "and 6 was that the former were for normalized data while the latter were\n",
        "for the original data. Is this expectation confirmed? If not, why?\n"
      ],
      "metadata": {
        "id": "B17FEeXvVFF6"
      }
    },
    {
      "cell_type": "markdown",
      "source": [
        "ANSWER: Both scores are confirmed and are different because we used the standard scalar on the data and hence we got different r2_scores for item 3 and item 6"
      ],
      "metadata": {
        "id": "kHOLql1aVFRN"
      }
    },
    {
      "cell_type": "markdown",
      "source": [
        "9. Varying the regularization parameter α in the Lasso, plot the test R2 vs\n",
        "the number of features used (i.e., those with non-zero coefficients). Try to\n",
        "make your plot as pretty as possible. (Obviously, it’s subjective.) Which\n",
        "point on the curve do you prefer? (There is no unique correct answer to\n",
        "this question.) Give a brief explanation of your preference."
      ],
      "metadata": {
        "id": "FwkmSVXuVR19"
      }
    },
    {
      "cell_type": "code",
      "source": [
        "best_score = 0 # best score initial assigned to zero\n",
        "scores = [] #Scores\n",
        "testr2scores = [] #test R2 scores\n",
        "parameters = [] #number of features\n",
        "for alpha1 in [ 0.001,0.005, 0.9, 1, 10, 20, 100]:\n",
        "    # for each combination of parameters, train an Lasso\n",
        "    lass_path = Lasso(alpha=alpha1) #Model Building\n",
        "    lass_path.fit(std1, training_y_originaldataset) #model fitting\n",
        "    # evaluate the lasso on the test set\n",
        "    score = lass_path.score(std2, test_y_originaldataset) #Evaluation\n",
        "    scores.append(score) #appending\n",
        "    Y_predict= lass_path.predict(std2) #predicting\n",
        "    testr2Score = r2_score(test_y_originaldataset,Y_predict) #R2 score\n",
        "    testr2scores.append(testr2Score) # \n",
        "    score11 = lass_path.coef_\n",
        "    features_count1 = np.sum(score11>0)\n",
        "    parameters.append(features_count1)\n",
        "    # if we got a better score, store the score and parameters\n",
        "    if score > best_score:\n",
        "      best_score = score\n",
        "      best_alpha = alpha1\n",
        "print(\"Best score:\", best_score) #best score\n",
        "print(\"Best parameters alpha:\",best_alpha) #best alpha"
      ],
      "metadata": {
        "colab": {
          "base_uri": "https://localhost:8080/"
        },
        "id": "hTCmPZtZJbrl",
        "outputId": "5ae0bbc5-8d4c-446d-be0d-c2a31af59bc0"
      },
      "execution_count": 17,
      "outputs": [
        {
          "output_type": "stream",
          "name": "stdout",
          "text": [
            "Best score: 0.5116878861038713\n",
            "Best parameters alpha: 1\n"
          ]
        }
      ]
    },
    {
      "cell_type": "code",
      "source": [
        "import matplotlib.pyplot as plt #Library\n",
        "plt.plot(parameters,testr2scores,\"+--\",label=\"Test Value of R square\") #plotting the graph\n",
        "plt.xlabel(\"Used Features\")\n",
        "plt.ylabel(\"Test values of R square\")\n",
        "plt.legend()"
      ],
      "metadata": {
        "colab": {
          "base_uri": "https://localhost:8080/",
          "height": 296
        },
        "id": "Wc3j1-Pl-GWe",
        "outputId": "45265e6a-12b2-46d4-f51d-b8727ba21b00"
      },
      "execution_count": 18,
      "outputs": [
        {
          "output_type": "execute_result",
          "data": {
            "text/plain": [
              "<matplotlib.legend.Legend at 0x7fd6b92d5510>"
            ]
          },
          "metadata": {},
          "execution_count": 18
        },
        {
          "output_type": "display_data",
          "data": {
            "text/plain": [
              "<Figure size 432x288 with 1 Axes>"
            ],
            "image/png": "[encoded data removed]"
          },
          "metadata": {
            "needs_background": "light"
          }
        }
      ]
    },
    {
      "cell_type": "markdown",
      "source": [
        "from the above graphh, ideal number of features are 6 that are used in the laso method, because thats where the best score is achieved. "
      ],
      "metadata": {
        "id": "EYALyzIPPeUg"
      }
    },
    {
      "cell_type": "markdown",
      "source": [
        "10. Choose the regularization parameter for the Lasso using cross-validation\n",
        "on the training set. Train the Lasso on the whole training set using the\n",
        "chosen values of the parameters. Report the resulting training and test\n",
        "R2 and the number of features used. (As before, you are allowed to use\n",
        "any scikit-learn functions.)\n"
      ],
      "metadata": {
        "id": "khLnU1NmVniA"
      }
    },
    {
      "cell_type": "code",
      "source": [
        "# split train set into train set proper and validation set\n",
        "training_x_pr, valid_x, training_y_pr, valid_y = train_test_split(std1, training_y_originaldataset, random_state=210)\n",
        "print(\"Sizes of train_pr, valid, and test sets: \", training_x_pr.shape[0], valid_x.shape[0], test_x.shape[0])\n",
        "best_score = 0\n",
        "scores_valid = []\n",
        "trainr2scores_CV = []\n",
        "testr2scores_CV = []\n",
        "parameters_all = []\n",
        "trainscores = []\n",
        "testscores = []\n",
        "for alpha1 in [0.001, 0.01, 0.1, 1, 10, 100]:\n",
        "\n",
        "    # for each combination of parameters, train an Lasso\n",
        "    lass_path = Lasso(alpha = alpha1)  #Model Building\n",
        "    lass_path.fit(training_x_pr, training_y_pr) #model fitting\n",
        "\n",
        "    train_predict= lass_path.predict(training_x_pr) #Pedicting\n",
        "    test_predict= lass_path.predict(valid_x) #predicting\n",
        "\n",
        "    trainscore = lass_path.score(training_x_pr, training_y_pr) #Checking score\n",
        "    trainscores.append(trainscore) #appending\n",
        "\n",
        "    testscore = lass_path.score(training_x_pr, training_y_pr) #Checking score\n",
        "    testscores.append(testscore) #appending\n",
        "\n",
        "    trainr2Score = r2_score(training_y_pr,train_predict) #R2 score\n",
        "    trainr2scores_CV.append(trainr2Score) #appending the value\n",
        "\n",
        "    testr2Score = r2_score(valid_y,test_predict) #R2 score \n",
        "    testr2scores_CV.append(testr2Score) #appending\n",
        "    \n",
        "    score11 = lass_path.coef_ # Coefficient\n",
        "    features_count1 = np.sum(score11>0) #Summing the value to get possitive coefficients\n",
        "    parameters_all.append(features_count1) #appending the parameters\n",
        "    # evaluate the Lasso on the validation set\n",
        "    score = lass_path.score(valid_x, valid_y) #cscore\n",
        "    # if we got a better score, store the score and parameters\n",
        "    if score > best_score:\n",
        "      best_score = score\n",
        "      best_alpha = alpha1\n",
        "    \n",
        "# rebuild a model on the  training set, and evaluate it on the test set\n",
        "lass_path = Lasso(alpha=best_alpha) #Model Building\n",
        "lass_path.fit(training_x_pr, training_y_pr) ##model fitting\n",
        "valid_score = lass_path.score(valid_x,valid_y) #score\n",
        "print(\"Best score on validation set:\", best_score)\n",
        "print(\"Best parameter is alpha:\", best_alpha)\n",
        "print(\"Validation set score with best parameters:\", valid_score)"
      ],
      "metadata": {
        "colab": {
          "base_uri": "https://localhost:8080/"
        },
        "id": "iX35EhjqFH_T",
        "outputId": "5140a2eb-7d3c-43e7-d71f-5a8d3efd4f21"
      },
      "execution_count": 19,
      "outputs": [
        {
          "output_type": "stream",
          "name": "stdout",
          "text": [
            "Sizes of train_pr, valid, and test sets:  248 83 111\n",
            "Best score on validation set: 0.4675679005660107\n",
            "Best parameter is alpha: 1\n",
            "Validation set score with best parameters: 0.4675679005660107\n"
          ]
        }
      ]
    },
    {
      "cell_type": "code",
      "source": [
        "#Traing Set\n",
        "plt.plot(parameters_all,trainr2scores_CV,\"+--\",label=\"Train Value of R square\")\n",
        "plt.xlabel(\"Number of Features used\")\n",
        "plt.ylabel(\"Train values of R square\")\n",
        "plt.legend()"
      ],
      "metadata": {
        "colab": {
          "base_uri": "https://localhost:8080/",
          "height": 296
        },
        "id": "_A9ORChcYYxk",
        "outputId": "2f3db5d7-d7d7-462b-efc1-bdd17272dd49"
      },
      "execution_count": 20,
      "outputs": [
        {
          "output_type": "execute_result",
          "data": {
            "text/plain": [
              "<matplotlib.legend.Legend at 0x7fd6b924d6d0>"
            ]
          },
          "metadata": {},
          "execution_count": 20
        },
        {
          "output_type": "display_data",
          "data": {
            "text/plain": [
              "<Figure size 432x288 with 1 Axes>"
            ],
            "image/png": "[encoded data removed]"
          },
          "metadata": {
            "needs_background": "light"
          }
        }
      ]
    },
    {
      "cell_type": "code",
      "source": [
        "#Validation Set\n",
        "plt.plot(parameters_all,testr2scores_CV,\"+--\",label=\"Validation Value of R square\")\n",
        "plt.xlabel(\"Number of Features used\")\n",
        "plt.ylabel(\"Validation values of R square\")\n",
        "plt.legend()"
      ],
      "metadata": {
        "colab": {
          "base_uri": "https://localhost:8080/",
          "height": 296
        },
        "id": "qrJZyte1Yj6Y",
        "outputId": "4ac86eec-a585-4476-f9ca-069d8037825f"
      },
      "execution_count": 21,
      "outputs": [
        {
          "output_type": "execute_result",
          "data": {
            "text/plain": [
              "<matplotlib.legend.Legend at 0x7fd6b8dabbd0>"
            ]
          },
          "metadata": {},
          "execution_count": 21
        },
        {
          "output_type": "display_data",
          "data": {
            "text/plain": [
              "<Figure size 432x288 with 1 Axes>"
            ],
            "image/png": "[encoded data removed]"
          },
          "metadata": {
            "needs_background": "light"
          }
        }
      ]
    },
    {
      "cell_type": "markdown",
      "source": [
        "10. Choose the regularization parameter for the Lasso using cross-validation\n",
        "on the training set. Train the Lasso on the whole training set using the\n",
        "chosen values of the parameters. Report the resulting training and test\n",
        "R2 and the number of features used. (As before, you are allowed to use\n",
        "any scikit-learn functions.)"
      ],
      "metadata": {
        "id": "qdzo4GiBttpl"
      }
    },
    {
      "cell_type": "code",
      "source": [
        "#10.lASSO WITH CROSS VALIDATION\n",
        "# using the RepeatedKFold function\n",
        "import numpy as np\n",
        "from sklearn.linear_model import Lasso\n",
        "from sklearn.linear_model import Lasso\n",
        "from sklearn.metrics import r2_score\n",
        "from sklearn.model_selection import cross_val_score\n",
        "best_score = 0\n",
        "scores_valid_CV = []\n",
        "for alpha1 in [0.0001, 0.001, 0.01, 0.1, 10, 100]:\n",
        "    # for each combination of parameters,\n",
        "    # train an LASSO\n",
        "    lass_path = Lasso(alpha = alpha1)  #Model Building\n",
        "    # perform cross-validation\n",
        "     \n",
        "    scores = cross_val_score(lass_path, std1, training_y_originaldataset, cv=6) \n",
        "    scores_valid_CV.append(scores)\n",
        "    #print(scores)\n",
        "    #cv means sampling the data set into 5 parts with 4 training samples and 1 testing samples\n",
        "    # compute mean cross-validation accuracy\n",
        "    score = np.mean(scores)\n",
        "    scores_valid_CV.append(score)\n",
        "\n",
        "    \n",
        "       # if we got a better score, store the score and parameters\n",
        "    if score > best_score:\n",
        "      best_score = score\n",
        "      best_alpha = alpha1\n",
        "# rebuild a model on the full training set\n",
        "lass_path = Lasso(alpha = best_alpha)  #Model Building\n",
        "lass_path.fit(std1,training_y_originaldataset)\n",
        "testpreds = lass_path.predict(test_x_originaldataset)\n",
        "test_score = lass_path.score(std2, test_y_originaldataset) #score here is a method of lasso class\n",
        "testr2Score = r2_score(test_y_originaldataset,testpreds)\n",
        "print(\"Best CV score:\", best_score)\n",
        "print(\"Best parameters alpha is :\",best_alpha)\n",
        "print(\"Test set score with best parameters:\", test_score)\n",
        "print(\"Test R2 Score\",testr2Score )"
      ],
      "metadata": {
        "colab": {
          "base_uri": "https://localhost:8080/"
        },
        "id": "cw8ltV8eNOry",
        "outputId": "2df44a8b-8d5f-4eb1-b0c9-203b66dacb94"
      },
      "execution_count": 22,
      "outputs": [
        {
          "output_type": "stream",
          "name": "stdout",
          "text": [
            "Best CV score: 0.4812195767911683\n",
            "Best parameters alpha is : 0.0001\n",
            "Test set score with best parameters: 0.5039000849777067\n",
            "Test R2 Score -790.0796249550024\n"
          ]
        },
        {
          "output_type": "stream",
          "name": "stderr",
          "text": [
            "/usr/local/lib/python3.7/dist-packages/sklearn/base.py:444: UserWarning: X has feature names, but Lasso was fitted without feature names\n",
            "  f\"X has feature names, but {self.__class__.__name__} was fitted without\"\n"
          ]
        }
      ]
    },
    {
      "cell_type": "code",
      "source": [
        "param_grid = {'alpha': [0.001, 0.01, 0.1, 1, 10, 100]}\n",
        "from sklearn.model_selection import GridSearchCV\n",
        "grid_search = GridSearchCV(Lasso(), param_grid, cv=5)\n",
        "grid_search.fit(std1,training_y_originaldataset)\n",
        "grid_search.score(std2, test_y_originaldataset)"
      ],
      "metadata": {
        "colab": {
          "base_uri": "https://localhost:8080/"
        },
        "id": "Ct6uCcSRjPJk",
        "outputId": "a5ec8e3d-a70a-42e7-bfba-64b76b2d09df"
      },
      "execution_count": 23,
      "outputs": [
        {
          "output_type": "execute_result",
          "data": {
            "text/plain": [
              "0.5049339293135084"
            ]
          },
          "metadata": {},
          "execution_count": 23
        }
      ]
    },
    {
      "cell_type": "code",
      "source": [
        "print(grid_search.best_params_)\n",
        "print(grid_search.best_score_)"
      ],
      "metadata": {
        "colab": {
          "base_uri": "https://localhost:8080/"
        },
        "id": "ak-rC--ukEJd",
        "outputId": "56aea217-4e72-4aea-e0cd-42e464b4ef7b"
      },
      "execution_count": 24,
      "outputs": [
        {
          "output_type": "stream",
          "name": "stdout",
          "text": [
            "{'alpha': 0.1}\n",
            "0.47987559634961785\n"
          ]
        }
      ]
    },
    {
      "cell_type": "code",
      "source": [
        "grid_search.best_estimator_"
      ],
      "metadata": {
        "colab": {
          "base_uri": "https://localhost:8080/"
        },
        "id": "HJyqxrIVnZ4D",
        "outputId": "864a97cb-cacb-4cca-e45d-389eb60698e3"
      },
      "execution_count": 25,
      "outputs": [
        {
          "output_type": "execute_result",
          "data": {
            "text/plain": [
              "Lasso(alpha=0.1)"
            ]
          },
          "metadata": {},
          "execution_count": 25
        }
      ]
    },
    {
      "cell_type": "markdown",
      "source": [
        "11. Implement an inductive conformal predictor as follows:\n",
        "\n",
        "(a) Split the training set that you obtained in item 5 into two parts:\n",
        "the calibration set of size 99 and the rest of the training set (the\n",
        "training set proper). Use your birthday (in the format DDMM) as\n",
        "random_state.\n"
      ],
      "metadata": {
        "id": "TSMhg7iCVwQg"
      }
    },
    {
      "cell_type": "code",
      "source": [
        "training_x,test_x,training_y,test_y = train_test_split(features_originaldataset, labels_originaldataset,test_size = 0.25, random_state = 210)\n",
        "train_data_x, caliberation_x ,train_data_y, caliberation_y = train_test_split(training_x,training_y,test_size = 99 , random_state = 210)"
      ],
      "metadata": {
        "id": "_QZ0M5gjcvK4"
      },
      "execution_count": 26,
      "outputs": []
    },
    {
      "cell_type": "markdown",
      "source": [
        "(b) Preprocess the training set proper, calibration set, and test set in\n",
        "the same way using StandardScaler. Namely, fit the scaler to the\n",
        "training set proper and then use it to transform all three."
      ],
      "metadata": {
        "id": "EI2cu_6HV9kC"
      }
    },
    {
      "cell_type": "code",
      "source": [
        "#b)\n",
        "from sklearn.preprocessing import StandardScaler\n",
        "std_sc = StandardScaler()\n",
        "std_sc.fit(train_data_x)\n",
        "#we apply transform on features only.\n",
        "#we transform trainig_x only training data\n",
        "std3 = std_sc.transform(train_data_x)\n",
        "#we do transform for new caliberation and test as well\n",
        "std4 = std_sc.transform(caliberation_x)\n",
        "std5 = std_sc.transform(test_x)"
      ],
      "metadata": {
        "id": "IvP51bHw_G8a"
      },
      "execution_count": 27,
      "outputs": []
    },
    {
      "cell_type": "markdown",
      "source": [
        "(c) Using the nonconformity measure α = |y − yˆ|, where y is the true\n",
        "label and ˆy is its prediction given the training set proper, for each test\n",
        "sample compute the prediction interval for it. Do this for significance\n",
        "levels 5% and 20%. For each of these significance levels compute:\n",
        "\n",
        "-the length of the prediction intervals for the test samples\n",
        "and the test error rate of your inductive conformal predictor1.\n",
        "\n",
        "-For computing the predictions ˆy, use the Lasso with parameters choosen by cross-validation on the training set prope"
      ],
      "metadata": {
        "id": "Qd9OHO7eWJl5"
      }
    },
    {
      "cell_type": "code",
      "source": [
        "#c)\n",
        "#0.0001, 0.001, 0.01, 0.1, 10, 100\n",
        "l_df = Lasso(alpha = 1.0)\n",
        "l_df.fit(std3,train_data_y)\n",
        "\n",
        "\n",
        "# Lasso's default parameter is alpha and the default value of alpha is one\n",
        "#We are doing supervised learning here\n",
        "x_predict= l_df.predict(std3)\n",
        "x1_predict= l_df.predict(std4)\n",
        "\n",
        "#training and test R2\n",
        "RR1= r2_score(train_data_y,x_predict)\n",
        "RR2 = r2_score(caliberation_y,x1_predict)\n"
      ],
      "metadata": {
        "id": "TMyj50T1APG-"
      },
      "execution_count": 28,
      "outputs": []
    },
    {
      "cell_type": "code",
      "source": [
        "RR1"
      ],
      "metadata": {
        "colab": {
          "base_uri": "https://localhost:8080/"
        },
        "id": "yUe8IkfnL2dK",
        "outputId": "84394ecb-589b-492a-fa69-80a3b4e24099"
      },
      "execution_count": 29,
      "outputs": [
        {
          "output_type": "execute_result",
          "data": {
            "text/plain": [
              "0.5467463611636524"
            ]
          },
          "metadata": {},
          "execution_count": 29
        }
      ]
    },
    {
      "cell_type": "code",
      "source": [
        "RR2"
      ],
      "metadata": {
        "colab": {
          "base_uri": "https://localhost:8080/"
        },
        "id": "fxY8vL5zL5Kl",
        "outputId": "2e9d36ba-1dc9-4194-c7ac-93844657086a"
      },
      "execution_count": 30,
      "outputs": [
        {
          "output_type": "execute_result",
          "data": {
            "text/plain": [
              "0.4241872525663236"
            ]
          },
          "metadata": {},
          "execution_count": 30
        }
      ]
    },
    {
      "cell_type": "code",
      "source": [
        "alpha2 = abs(np.subtract(train_data_y ,x_predict))\n",
        "alpha3 = sorted(alpha2) #new sorted values"
      ],
      "metadata": {
        "id": "EtzPS0d4MGbO"
      },
      "execution_count": 31,
      "outputs": []
    },
    {
      "cell_type": "code",
      "source": [
        "alpha2[220]\n",
        "#k = (1-e)(m+1) ---- e is signified factor\n",
        "k = (1-0.05)*(232+1)\n",
        "alpha3[222]\n",
        "#len(test_x)"
      ],
      "metadata": {
        "colab": {
          "base_uri": "https://localhost:8080/"
        },
        "id": "h8nJTM7NPfM0",
        "outputId": "8295c64f-06cd-4530-ed0e-8ff8e16fb076"
      },
      "execution_count": 32,
      "outputs": [
        {
          "output_type": "execute_result",
          "data": {
            "text/plain": [
              "98.72645150988811"
            ]
          },
          "metadata": {},
          "execution_count": 32
        }
      ]
    },
    {
      "cell_type": "code",
      "source": [
        "#0.0001, 0.001, 0.01, 0.1, 10, 100\n",
        "#l_df = Lasso(alpha = 1.0)\n",
        "# Lasso's default parameter is alpha and the default value of alpha is one\n",
        "#We are doing supervised learning here\n",
        "train_predict= l_df.predict(std3)\n",
        "calib_predict= l_df.predict(std4)\n",
        "test_predict = l_df.predict(std5)\n",
        "\n",
        "#training and test R2\n",
        "RR1= r2_score(train_data_y,x_predict)\n",
        "RR2 = r2_score(caliberation_y,x1_predict)"
      ],
      "metadata": {
        "id": "b4LjGTQ_RLvx"
      },
      "execution_count": 33,
      "outputs": []
    },
    {
      "cell_type": "code",
      "source": [
        "#conformaative measures for test scores\n",
        "test_alpha = abs(np.subtract(test_y,test_predict))\n",
        "test_alpha1 =sorted(test_alpha)"
      ],
      "metadata": {
        "id": "ScLzty1kWASh"
      },
      "execution_count": 34,
      "outputs": []
    },
    {
      "cell_type": "code",
      "source": [
        "test_k1 = (1-0.05)*(111+1)\n",
        "test_k2 = (1-0.20)*(111+1)"
      ],
      "metadata": {
        "id": "APmtujd6kP7k"
      },
      "execution_count": 35,
      "outputs": []
    },
    {
      "cell_type": "code",
      "source": [
        "c05 = test_alpha1[int(test_k1)]\n",
        "c20 = test_alpha1[int(test_k2)]"
      ],
      "metadata": {
        "id": "LDNiVx1BYDc_"
      },
      "execution_count": 36,
      "outputs": []
    },
    {
      "cell_type": "code",
      "source": [
        "prediction_intervals = []\n",
        "#for the given sample this is the prediction interval for e value 0.05\n",
        "for i in test_predict:\n",
        "  print(i)\n",
        "  predict_int05 = [i+c05,i-c05]\n",
        "  print(predict_int05)\n",
        "  #This is the length of the test sample range\n",
        "  leng = predict_int05[1]-predict_int05[0]\n",
        "  #length of prediction interval of the test sample is 207\n",
        "  prediction_intervals.append(leng)\n",
        "  print(leng)"
      ],
      "metadata": {
        "colab": {
          "base_uri": "https://localhost:8080/"
        },
        "id": "urg1D5HkXgqe",
        "outputId": "4461004f-c3ba-449c-a8d1-adb500cdfb3f"
      },
      "execution_count": 37,
      "outputs": [
        {
          "output_type": "stream",
          "name": "stdout",
          "text": [
            "111.41525385560368\n",
            "[218.56675915673344, 4.263748554473921]\n",
            "-214.30301060225952\n",
            "253.8549648734575\n",
            "[361.00647017458726, 146.70345957232774]\n",
            "-214.30301060225952\n",
            "154.84849469887024\n",
            "[262.0, 47.69698939774048]\n",
            "-214.30301060225952\n",
            "179.0383015319024\n",
            "[286.18980683303215, 71.88679623077263]\n",
            "-214.30301060225952\n",
            "277.8047411444045\n",
            "[384.95624644553425, 170.65323584327473]\n",
            "-214.30301060225952\n",
            "97.67129265357588\n",
            "[204.82279795470563, -9.480212647553884]\n",
            "-214.30301060225952\n",
            "147.8740702994388\n",
            "[255.02557560056857, 40.72256499830905]\n",
            "-214.30301060225952\n",
            "175.48936463364387\n",
            "[282.6408699347736, 68.33785933251411]\n",
            "-214.3030106022595\n",
            "53.60012558505022\n",
            "[160.75163088617998, -53.55137971607954]\n",
            "-214.30301060225952\n",
            "65.17411726784093\n",
            "[172.3256225689707, -41.97738803328883]\n",
            "-214.30301060225952\n",
            "147.76222757324732\n",
            "[254.91373287437708, 40.610722272117556]\n",
            "-214.30301060225952\n",
            "160.50404354659594\n",
            "[267.6555488477257, 53.35253824546618]\n",
            "-214.30301060225952\n",
            "240.08610172089305\n",
            "[347.2376070220228, 132.9345964197633]\n",
            "-214.30301060225952\n",
            "208.65529983722706\n",
            "[315.8068051383568, 101.5037945360973]\n",
            "-214.30301060225952\n",
            "114.96289612624219\n",
            "[222.11440142737194, 7.811390825112426]\n",
            "-214.30301060225952\n",
            "269.40163417018357\n",
            "[376.55313947131333, 162.2501288690538]\n",
            "-214.30301060225952\n",
            "82.7860937174519\n",
            "[189.93759901858166, -24.365411583677854]\n",
            "-214.30301060225952\n",
            "154.43513687276777\n",
            "[261.58664217389753, 47.28363157163801]\n",
            "-214.30301060225952\n",
            "207.94048686270992\n",
            "[315.0919921638397, 100.78898156158016]\n",
            "-214.30301060225952\n",
            "62.30792892886575\n",
            "[169.4594342299955, -44.84357637226401]\n",
            "-214.30301060225952\n",
            "237.35756294081895\n",
            "[344.50906824194874, 130.2060576396892]\n",
            "-214.30301060225955\n",
            "85.80875946422441\n",
            "[192.96026476535417, -21.34274583690535]\n",
            "-214.30301060225952\n",
            "47.58295796347281\n",
            "[154.73446326460257, -59.56854733765695]\n",
            "-214.30301060225952\n",
            "79.77604163487587\n",
            "[186.92754693600563, -27.375463666253893]\n",
            "-214.30301060225952\n",
            "170.5457998911306\n",
            "[277.6973051922604, 63.39429459000084]\n",
            "-214.30301060225955\n",
            "179.2326318911019\n",
            "[286.38413719223166, 72.08112658997214]\n",
            "-214.30301060225952\n",
            "115.80449639033537\n",
            "[222.95600169146513, 8.652991089205614]\n",
            "-214.30301060225952\n",
            "112.71719583022548\n",
            "[219.86870113135524, 5.565690529095718]\n",
            "-214.30301060225952\n",
            "155.45440437662688\n",
            "[262.60590967775664, 48.30289907549712]\n",
            "-214.30301060225952\n",
            "93.87898820900124\n",
            "[201.030493510131, -13.272517092128524]\n",
            "-214.30301060225952\n",
            "99.10060181055223\n",
            "[206.252107111682, -8.050903490577525]\n",
            "-214.30301060225952\n",
            "100.55179661550704\n",
            "[207.7033019166368, -6.599708685622716]\n",
            "-214.30301060225952\n",
            "121.35792790992858\n",
            "[228.50943321105834, 14.206422608798817]\n",
            "-214.30301060225952\n",
            "156.74988903556758\n",
            "[263.9013943366973, 49.59838373443782]\n",
            "-214.3030106022595\n",
            "129.32463764192553\n",
            "[236.4761429430553, 22.173132340795775]\n",
            "-214.30301060225952\n",
            "125.07112953462502\n",
            "[232.22263483575477, 17.919624233495256]\n",
            "-214.30301060225952\n",
            "108.53320806252626\n",
            "[215.68471336365602, 1.3817027613964967]\n",
            "-214.30301060225952\n",
            "118.83484090722712\n",
            "[225.98634620835688, 11.683335606097359]\n",
            "-214.30301060225952\n",
            "114.4217609039911\n",
            "[221.57326620512086, 7.27025560286134]\n",
            "-214.30301060225952\n",
            "59.853210400458806\n",
            "[167.00471570158857, -47.29829490067095]\n",
            "-214.30301060225952\n",
            "206.8057558783816\n",
            "[313.95726117951136, 99.65425057725184]\n",
            "-214.30301060225952\n",
            "185.74954199990043\n",
            "[292.9010473010302, 78.59803669877067]\n",
            "-214.30301060225952\n",
            "198.24432170186216\n",
            "[305.39582700299195, 91.0928164007324]\n",
            "-214.30301060225955\n",
            "147.54365465696324\n",
            "[254.695159958093, 40.39214935583348]\n",
            "-214.30301060225952\n",
            "117.28471911350422\n",
            "[224.43622441463398, 10.133213812374464]\n",
            "-214.30301060225952\n",
            "236.86159944055714\n",
            "[344.0131047416869, 129.71009413942738]\n",
            "-214.30301060225952\n",
            "261.01592144362246\n",
            "[368.1674267447522, 153.8644161424927]\n",
            "-214.30301060225952\n",
            "122.36062795335309\n",
            "[229.51213325448285, 15.209122652223328]\n",
            "-214.30301060225952\n",
            "157.89649582203972\n",
            "[265.04800112316946, 50.744990520909965]\n",
            "-214.3030106022595\n",
            "183.3805733046\n",
            "[290.5320786057298, 76.22906800347025]\n",
            "-214.30301060225955\n",
            "84.43261369180233\n",
            "[191.58411899293208, -22.71889160932743]\n",
            "-214.30301060225952\n",
            "185.44851365709766\n",
            "[292.60001895822745, 78.2970083559679]\n",
            "-214.30301060225955\n",
            "64.53653146004964\n",
            "[171.6880367611794, -42.614973841080115]\n",
            "-214.30301060225952\n",
            "75.83329865293524\n",
            "[182.984803954065, -31.31820664819452]\n",
            "-214.30301060225952\n",
            "190.86800293571838\n",
            "[298.01950823684814, 83.71649763458862]\n",
            "-214.30301060225952\n",
            "140.3927504782034\n",
            "[247.54425577933316, 33.24124517707364]\n",
            "-214.30301060225952\n",
            "127.57199655281129\n",
            "[234.72350185394106, 20.420491251681526]\n",
            "-214.30301060225952\n",
            "173.93597014041003\n",
            "[281.0874754415398, 66.78446483928028]\n",
            "-214.30301060225955\n",
            "95.46930156919908\n",
            "[202.62080687032883, -11.682203731930684]\n",
            "-214.30301060225952\n",
            "70.29879376458138\n",
            "[177.45029906571114, -36.852711536548384]\n",
            "-214.30301060225952\n",
            "140.75891193946944\n",
            "[247.9104172405992, 33.60740663833968]\n",
            "-214.30301060225952\n",
            "159.76962515078034\n",
            "[266.92113045191013, 52.61811984965058]\n",
            "-214.30301060225955\n",
            "65.10437118207243\n",
            "[172.2558764832022, -42.04713411905733]\n",
            "-214.30301060225952\n",
            "59.54706068600797\n",
            "[166.69856598713773, -47.60444461512179]\n",
            "-214.30301060225952\n",
            "105.10102777065704\n",
            "[212.2525330717868, -2.050477530472719]\n",
            "-214.30301060225952\n",
            "121.87711368227178\n",
            "[229.02861898340154, 14.725608381142024]\n",
            "-214.30301060225952\n",
            "64.58486561375949\n",
            "[171.73637091488925, -42.56663968737027]\n",
            "-214.30301060225952\n",
            "185.45724764684343\n",
            "[292.6087529479732, 78.30574234571367]\n",
            "-214.30301060225952\n",
            "201.9369191557387\n",
            "[309.08842445686844, 94.78541385460895]\n",
            "-214.3030106022595\n",
            "159.80421908634733\n",
            "[266.95572438747706, 52.65271378521757]\n",
            "-214.3030106022595\n",
            "205.7621926202991\n",
            "[312.9136979214288, 98.61068731916933]\n",
            "-214.3030106022595\n",
            "131.58414986660614\n",
            "[238.7356551677359, 24.43264456547638]\n",
            "-214.30301060225952\n",
            "194.67169164326015\n",
            "[301.8231969443899, 87.52018634213039]\n",
            "-214.30301060225952\n",
            "63.366683645289626\n",
            "[170.5181889464194, -43.78482165584013]\n",
            "-214.30301060225952\n",
            "138.38259388561667\n",
            "[245.53409918674643, 31.231088584486912]\n",
            "-214.30301060225952\n",
            "286.1917437638831\n",
            "[393.34324906501286, 179.04023846275334]\n",
            "-214.30301060225952\n",
            "238.23731004482784\n",
            "[345.3888153459576, 131.08580474369808]\n",
            "-214.30301060225952\n",
            "124.45887724631854\n",
            "[231.6103825474483, 17.307371945188777]\n",
            "-214.30301060225952\n",
            "88.1138973138341\n",
            "[195.26540261496388, -19.037607987295658]\n",
            "-214.30301060225952\n",
            "129.022199891094\n",
            "[236.17370519222376, 21.870694589964245]\n",
            "-214.30301060225952\n",
            "254.16046955896627\n",
            "[361.31197486009603, 147.0089642578365]\n",
            "-214.30301060225952\n",
            "95.7504234607706\n",
            "[202.90192876190036, -11.401081840359154]\n",
            "-214.30301060225952\n",
            "171.5730594454326\n",
            "[278.72456474656235, 64.42155414430283]\n",
            "-214.30301060225952\n",
            "133.02909794416675\n",
            "[240.1806032452965, 25.87759264303699]\n",
            "-214.30301060225952\n",
            "188.44656698940832\n",
            "[295.5980722905381, 81.29506168827857]\n",
            "-214.30301060225952\n",
            "120.5124090594874\n",
            "[227.66391436061716, 13.360903758357637]\n",
            "-214.30301060225952\n",
            "83.0714283744908\n",
            "[190.22293367562054, -24.080076926638966]\n",
            "-214.30301060225952\n",
            "101.66439407362607\n",
            "[208.81589937475582, -5.487111227503689]\n",
            "-214.30301060225952\n",
            "138.59084913572482\n",
            "[245.74235443685458, 31.439343834595064]\n",
            "-214.30301060225952\n",
            "190.75284602826076\n",
            "[297.9043513293905, 83.601340727131]\n",
            "-214.30301060225952\n",
            "128.33044021864765\n",
            "[235.4819455197774, 21.178934917517893]\n",
            "-214.30301060225952\n",
            "103.31355455636891\n",
            "[210.46505985749866, -3.837950744760846]\n",
            "-214.30301060225952\n",
            "142.76873506976847\n",
            "[249.92024037089823, 35.61722976863871]\n",
            "-214.30301060225952\n",
            "102.83714511628224\n",
            "[209.988650417412, -4.314360184847516]\n",
            "-214.30301060225952\n",
            "62.7234588125541\n",
            "[169.87496411368386, -44.42804648857566]\n",
            "-214.30301060225952\n",
            "132.13999727795124\n",
            "[239.291502579081, 24.98849197682148]\n",
            "-214.30301060225952\n",
            "130.1263072377277\n",
            "[237.27781253885746, 22.97480193659794]\n",
            "-214.30301060225952\n",
            "184.28358475785558\n",
            "[291.43509005898534, 77.13207945672582]\n",
            "-214.30301060225952\n",
            "98.06257356587642\n",
            "[205.21407886700618, -9.08893173525334]\n",
            "-214.30301060225952\n",
            "153.46675011375336\n",
            "[260.61825541488315, 46.315244812623604]\n",
            "-214.30301060225955\n",
            "173.80038566804203\n",
            "[280.9518909691718, 66.64888036691227]\n",
            "-214.30301060225955\n",
            "74.2284579973569\n",
            "[181.37996329848664, -32.92304730377286]\n",
            "-214.30301060225952\n",
            "181.02998413231458\n",
            "[288.1814894334443, 73.87847883118482]\n",
            "-214.3030106022595\n",
            "188.585048452381\n",
            "[295.73655375351075, 81.43354315125123]\n",
            "-214.30301060225952\n",
            "74.26069622244881\n",
            "[181.41220152357857, -32.890809078680945]\n",
            "-214.30301060225952\n",
            "177.93052219354684\n",
            "[285.0820274946766, 70.77901689241708]\n",
            "-214.30301060225952\n",
            "147.8992818425989\n",
            "[255.05078714372866, 40.747776541469136]\n",
            "-214.30301060225952\n",
            "192.6043881691828\n",
            "[299.75589347031257, 85.45288286805305]\n",
            "-214.30301060225952\n",
            "55.981837250364805\n",
            "[163.13334255149456, -51.169668050764955]\n",
            "-214.30301060225952\n",
            "170.2586637600809\n",
            "[277.4101690612107, 63.10715845895115]\n",
            "-214.30301060225955\n",
            "205.8143392678203\n",
            "[312.96584456895005, 98.66283396669053]\n",
            "-214.30301060225952\n"
          ]
        }
      ]
    },
    {
      "cell_type": "code",
      "source": [
        "#for the given sample this is the prediction interval for e value 0.20\n",
        "for i in test_predict: #for loop\n",
        "  print(i)\n",
        "  predict_int20 = [i+c20,i-c20]\n",
        "  print(predict_int20)\n",
        "  leng = predict_int20[1]-predict_int20[0]\n",
        "  #length of prediction interval of the test sample is 140\n",
        "  prediction_intervals.append(leng)\n",
        "  print(leng)"
      ],
      "metadata": {
        "colab": {
          "base_uri": "https://localhost:8080/"
        },
        "id": "pmrGbR4Km74e",
        "outputId": "9fa5dcad-2fd5-424a-c5fd-d2eafbf4478f"
      },
      "execution_count": 38,
      "outputs": [
        {
          "output_type": "stream",
          "name": "stdout",
          "text": [
            "111.41525385560368\n",
            "[175.1867958582468, 47.64371185296058]\n",
            "-127.54308400528622\n",
            "253.8549648734575\n",
            "[317.6265068761006, 190.0834228708144]\n",
            "-127.54308400528623\n",
            "154.84849469887024\n",
            "[218.62003670151336, 91.07695269622714]\n",
            "-127.54308400528622\n",
            "179.0383015319024\n",
            "[242.8098435345455, 115.26675952925929]\n",
            "-127.54308400528622\n",
            "277.8047411444045\n",
            "[341.5762831470476, 214.03319914176137]\n",
            "-127.54308400528623\n",
            "97.67129265357588\n",
            "[161.44283465621896, 33.89975065093277]\n",
            "-127.54308400528619\n",
            "147.8740702994388\n",
            "[211.64561230208193, 84.10252829679571]\n",
            "-127.54308400528622\n",
            "175.48936463364387\n",
            "[239.26090663628696, 111.71782263100077]\n",
            "-127.54308400528619\n",
            "53.60012558505022\n",
            "[117.37166758769332, -10.17141641759288]\n",
            "-127.5430840052862\n",
            "65.17411726784093\n",
            "[128.94565927048404, 1.4025752651978252]\n",
            "-127.54308400528622\n",
            "147.76222757324732\n",
            "[211.5337695758904, 83.99068557060421]\n",
            "-127.54308400528619\n",
            "160.50404354659594\n",
            "[224.27558554923905, 96.73250154395284]\n",
            "-127.54308400528622\n",
            "240.08610172089305\n",
            "[303.85764372353617, 176.31455971824994]\n",
            "-127.54308400528623\n",
            "208.65529983722706\n",
            "[272.4268418398702, 144.88375783458395]\n",
            "-127.54308400528623\n",
            "114.96289612624219\n",
            "[178.7344381288853, 51.19135412359908]\n",
            "-127.54308400528622\n",
            "269.40163417018357\n",
            "[333.1731761728267, 205.63009216754045]\n",
            "-127.54308400528623\n",
            "82.7860937174519\n",
            "[146.557635720095, 19.014551714808803]\n",
            "-127.54308400528619\n",
            "154.43513687276777\n",
            "[218.2066788754109, 90.66359487012467]\n",
            "-127.54308400528622\n",
            "207.94048686270992\n",
            "[271.71202886535303, 144.1689448600668]\n",
            "-127.54308400528623\n",
            "62.30792892886575\n",
            "[126.07947093150885, -1.4636130737773527]\n",
            "-127.5430840052862\n",
            "237.35756294081895\n",
            "[301.12910494346204, 173.58602093817586]\n",
            "-127.54308400528618\n",
            "85.80875946422441\n",
            "[149.58030146686752, 22.037217461581307]\n",
            "-127.54308400528622\n",
            "47.58295796347281\n",
            "[111.35449996611591, -16.188584039170294]\n",
            "-127.5430840052862\n",
            "79.77604163487587\n",
            "[143.54758363751898, 16.004499632232765]\n",
            "-127.54308400528622\n",
            "170.5457998911306\n",
            "[234.3173418937737, 106.7742578884875]\n",
            "-127.54308400528619\n",
            "179.2326318911019\n",
            "[243.00417389374502, 115.4610898884588]\n",
            "-127.54308400528622\n",
            "115.80449639033537\n",
            "[179.5760383929785, 52.03295438769227]\n",
            "-127.54308400528622\n",
            "112.71719583022548\n",
            "[176.4887378328686, 48.945653827582376]\n",
            "-127.54308400528622\n",
            "155.45440437662688\n",
            "[219.22594637927, 91.68286237398378]\n",
            "-127.54308400528622\n",
            "93.87898820900124\n",
            "[157.65053021164434, 30.107446206358134]\n",
            "-127.5430840052862\n",
            "99.10060181055223\n",
            "[162.87214381319535, 35.32905980790913]\n",
            "-127.54308400528622\n",
            "100.55179661550704\n",
            "[164.32333861815016, 36.78025461286394]\n",
            "-127.54308400528622\n",
            "121.35792790992858\n",
            "[185.12946991257166, 57.586385907285475]\n",
            "-127.54308400528619\n",
            "156.74988903556758\n",
            "[220.52143103821066, 92.97834703292448]\n",
            "-127.54308400528619\n",
            "129.32463764192553\n",
            "[193.09617964456862, 65.55309563928243]\n",
            "-127.54308400528619\n",
            "125.07112953462502\n",
            "[188.84267153726813, 61.29958753198191]\n",
            "-127.54308400528622\n",
            "108.53320806252626\n",
            "[172.30475006516934, 44.761666059883154]\n",
            "-127.54308400528619\n",
            "118.83484090722712\n",
            "[182.6063829098702, 55.063298904584016]\n",
            "-127.54308400528619\n",
            "114.4217609039911\n",
            "[178.1933029066342, 50.650218901348]\n",
            "-127.54308400528619\n",
            "59.853210400458806\n",
            "[123.62475240310191, -3.9183316021842955]\n",
            "-127.5430840052862\n",
            "206.8057558783816\n",
            "[270.5772978810247, 143.0342138757385]\n",
            "-127.54308400528623\n",
            "185.74954199990043\n",
            "[249.52108400254355, 121.97799999725733]\n",
            "-127.54308400528622\n",
            "198.24432170186216\n",
            "[262.01586370450525, 134.47277969921907]\n",
            "-127.54308400528618\n",
            "147.54365465696324\n",
            "[211.31519665960633, 83.77211265432014]\n",
            "-127.54308400528619\n",
            "117.28471911350422\n",
            "[181.0562611161473, 53.51317711086112]\n",
            "-127.54308400528619\n",
            "236.86159944055714\n",
            "[300.63314144320026, 173.09005743791403]\n",
            "-127.54308400528623\n",
            "261.01592144362246\n",
            "[324.7874634462656, 197.24437944097934]\n",
            "-127.54308400528623\n",
            "122.36062795335309\n",
            "[186.13216995599618, 58.589085950709986]\n",
            "-127.54308400528619\n",
            "157.89649582203972\n",
            "[221.6680378246828, 94.12495381939662]\n",
            "-127.54308400528619\n",
            "183.3805733046\n",
            "[247.1521153072431, 119.6090313019569]\n",
            "-127.54308400528619\n",
            "84.43261369180233\n",
            "[148.20415569444543, 20.66107168915923]\n",
            "-127.5430840052862\n",
            "185.44851365709766\n",
            "[249.22005565974075, 121.67697165445456]\n",
            "-127.54308400528619\n",
            "64.53653146004964\n",
            "[128.30807346269273, 0.7649894574065428]\n",
            "-127.54308400528619\n",
            "75.83329865293524\n",
            "[139.60484065557836, 12.06175665029214]\n",
            "-127.54308400528622\n",
            "190.86800293571838\n",
            "[254.6395449383615, 127.09646093307528]\n",
            "-127.54308400528622\n",
            "140.3927504782034\n",
            "[204.16429248084648, 76.6212084755603]\n",
            "-127.54308400528619\n",
            "127.57199655281129\n",
            "[191.3435385554544, 63.80045455016818]\n",
            "-127.5430840052862\n",
            "173.93597014041003\n",
            "[237.70751214305312, 110.16442813776693]\n",
            "-127.54308400528619\n",
            "95.46930156919908\n",
            "[159.24084357184216, 31.697759566555973]\n",
            "-127.54308400528619\n",
            "70.29879376458138\n",
            "[134.0703357672245, 6.527251761938274]\n",
            "-127.54308400528622\n",
            "140.75891193946944\n",
            "[204.53045394211256, 76.98736993682634]\n",
            "-127.54308400528622\n",
            "159.76962515078034\n",
            "[223.54116715342343, 95.99808314813724]\n",
            "-127.54308400528619\n",
            "65.10437118207243\n",
            "[128.87591318471553, 1.332829179429325]\n",
            "-127.5430840052862\n",
            "59.54706068600797\n",
            "[123.31860268865107, -4.224481316635135]\n",
            "-127.5430840052862\n",
            "105.10102777065704\n",
            "[168.87256977330014, 41.32948576801394]\n",
            "-127.5430840052862\n",
            "121.87711368227178\n",
            "[185.6486556849149, 58.10557167962868]\n",
            "-127.54308400528622\n",
            "64.58486561375949\n",
            "[128.35640761640258, 0.8133236111163882]\n",
            "-127.54308400528619\n",
            "185.45724764684343\n",
            "[249.22878964948654, 121.68570564420033]\n",
            "-127.54308400528622\n",
            "201.9369191557387\n",
            "[265.7084611583818, 138.16537715309562]\n",
            "-127.54308400528618\n",
            "159.80421908634733\n",
            "[223.57576108899042, 96.03267708370423]\n",
            "-127.54308400528619\n",
            "205.7621926202991\n",
            "[269.5337346229422, 141.990650617656]\n",
            "-127.54308400528618\n",
            "131.58414986660614\n",
            "[195.35569186924926, 67.81260786396304]\n",
            "-127.54308400528622\n",
            "194.67169164326015\n",
            "[258.44323364590326, 130.90014964061703]\n",
            "-127.54308400528623\n",
            "63.366683645289626\n",
            "[127.13822564793273, -0.40485835735347564]\n",
            "-127.5430840052862\n",
            "138.38259388561667\n",
            "[202.15413588825976, 74.61105188297357]\n",
            "-127.54308400528619\n",
            "286.1917437638831\n",
            "[349.9632857665262, 222.42020176123998]\n",
            "-127.54308400528623\n",
            "238.23731004482784\n",
            "[302.00885204747095, 174.46576804218472]\n",
            "-127.54308400528623\n",
            "124.45887724631854\n",
            "[188.23041924896165, 60.687335243675435]\n",
            "-127.54308400528622\n",
            "88.1138973138341\n",
            "[151.8854393164772, 24.342355311191]\n",
            "-127.5430840052862\n",
            "129.022199891094\n",
            "[192.7937418937371, 65.2506578884509]\n",
            "-127.54308400528619\n",
            "254.16046955896627\n",
            "[317.9320115616094, 190.38892755632315]\n",
            "-127.54308400528623\n",
            "95.7504234607706\n",
            "[159.52196546341372, 31.978881458127503]\n",
            "-127.54308400528622\n",
            "171.5730594454326\n",
            "[235.3446014480757, 107.80151744278949]\n",
            "-127.54308400528622\n",
            "133.02909794416675\n",
            "[196.80063994680984, 69.25755594152365]\n",
            "-127.54308400528619\n",
            "188.44656698940832\n",
            "[252.21810899205144, 124.67502498676522]\n",
            "-127.54308400528622\n",
            "120.5124090594874\n",
            "[184.28395106213048, 56.740867056844294]\n",
            "-127.54308400528619\n",
            "83.0714283744908\n",
            "[146.8429703771339, 19.29988637184769]\n",
            "-127.5430840052862\n",
            "101.66439407362607\n",
            "[165.43593607626917, 37.89285207098297]\n",
            "-127.5430840052862\n",
            "138.59084913572482\n",
            "[202.3623911383679, 74.81930713308172]\n",
            "-127.54308400528619\n",
            "190.75284602826076\n",
            "[254.52438803090388, 126.98130402561766]\n",
            "-127.54308400528622\n",
            "128.33044021864765\n",
            "[192.10198222129077, 64.55889821600455]\n",
            "-127.54308400528622\n",
            "103.31355455636891\n",
            "[167.08509655901202, 39.54201255372581]\n",
            "-127.5430840052862\n",
            "142.76873506976847\n",
            "[206.54027707241158, 78.99719306712537]\n",
            "-127.54308400528622\n",
            "102.83714511628224\n",
            "[166.60868711892533, 39.06560311363914]\n",
            "-127.54308400528619\n",
            "62.7234588125541\n",
            "[126.4950008151972, -1.0480831900890024]\n",
            "-127.5430840052862\n",
            "132.13999727795124\n",
            "[195.91153928059435, 68.36845527530814]\n",
            "-127.54308400528622\n",
            "130.1263072377277\n",
            "[193.89784924037082, 66.3547652350846]\n",
            "-127.54308400528622\n",
            "184.28358475785558\n",
            "[248.0551267604987, 120.51204275521248]\n",
            "-127.54308400528622\n",
            "98.06257356587642\n",
            "[161.8341155685195, 34.29103156323332]\n",
            "-127.54308400528619\n",
            "153.46675011375336\n",
            "[217.23829211639645, 89.69520811111026]\n",
            "-127.54308400528619\n",
            "173.80038566804203\n",
            "[237.5719276706851, 110.02884366539892]\n",
            "-127.54308400528619\n",
            "74.2284579973569\n",
            "[138.0, 10.456915994713796]\n",
            "-127.5430840052862\n",
            "181.02998413231458\n",
            "[244.80152613495767, 117.25844212967148]\n",
            "-127.54308400528619\n",
            "188.585048452381\n",
            "[252.3565904550241, 124.81350644973789]\n",
            "-127.54308400528622\n",
            "74.26069622244881\n",
            "[138.03223822509193, 10.489154219805712]\n",
            "-127.54308400528622\n",
            "177.93052219354684\n",
            "[241.70206419618995, 114.15898019090373]\n",
            "-127.54308400528622\n",
            "147.8992818425989\n",
            "[211.670823845242, 84.1277398399558]\n",
            "-127.54308400528622\n",
            "192.6043881691828\n",
            "[256.3759301718259, 128.8328461665397]\n",
            "-127.54308400528623\n",
            "55.981837250364805\n",
            "[119.7533792530079, -7.789704752278297]\n",
            "-127.5430840052862\n",
            "170.2586637600809\n",
            "[234.030205762724, 106.4871217574378]\n",
            "-127.54308400528619\n",
            "205.8143392678203\n",
            "[269.5858812704634, 142.04279726517717]\n",
            "-127.54308400528623\n"
          ]
        }
      ]
    },
    {
      "cell_type": "code",
      "source": [
        "def errorcheck(original, predicted): #Metod For error\n",
        "    error = original - predicted #caluculating the error\n",
        "    losscheck = (np.mean(np.sum(error) / original.size))/100 #checking the loss\n",
        "    return losscheck"
      ],
      "metadata": {
        "id": "TVbJGEJcb6cV"
      },
      "execution_count": 39,
      "outputs": []
    },
    {
      "cell_type": "code",
      "source": [
        "errorcheck(test_y,test_predict) # Test Error "
      ],
      "metadata": {
        "colab": {
          "base_uri": "https://localhost:8080/"
        },
        "id": "wDkUloSvc_Li",
        "outputId": "a2f299ff-8a73-4325-eef2-94c285ab3498"
      },
      "execution_count": 40,
      "outputs": [
        {
          "output_type": "execute_result",
          "data": {
            "text/plain": [
              "0.021871009088295236"
            ]
          },
          "metadata": {},
          "execution_count": 40
        }
      ]
    }
  ]
}